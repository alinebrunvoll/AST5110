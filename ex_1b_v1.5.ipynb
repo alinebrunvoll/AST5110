{
 "cells": [
  {
   "cell_type": "markdown",
   "metadata": {},
   "source": [
    "# Analytical and numerical calculation of the order of approximation of a derivative calculated through finite differences (optional)."
   ]
  },
  {
   "cell_type": "markdown",
   "metadata": {},
   "source": [
    "## 1 – The numerical test of the high-order formula"
   ]
  },
  {
   "cell_type": "markdown",
   "metadata": {},
   "source": [
    "Implement the finite difference formula given by the first term on the right of Eq (5) in the [wiki](https://github.com/AST-Course/AST5110/wiki/Discretization)  into the program you developed for Exercise 1a and test if you get an approximation to the first derivative with an error that converges to zero like $(\\Delta x)^4$."
   ]
  },
  {
   "cell_type": "markdown",
   "metadata": {},
   "source": [
    "Compare the 2nd-order and 4th-order error curves. Which error do you get in either case for 128 intervals? For 512 intervals? For 1024 intervals?"
   ]
  },
  {
   "attachments": {},
   "cell_type": "markdown",
   "metadata": {},
   "source": [
    "## 2 - Precision\n",
    "\n",
    "Try for more than $10^6$ grid points. What do you see? What happens if you try for a lower or higher floating number? Numpy uses float 64 as default. Instead, use `np.float32` and `np.float128` (note: `np.float128` sometimes gives an error with `np.roll`!). Explain the error slopes. "
   ]
  },
  {
   "cell_type": "code",
   "execution_count": 14,
   "metadata": {},
   "outputs": [],
   "source": [
    "import numpy as np\n",
    "import matplotlib.pyplot as plt\n",
    "from nm_lib import nm_lib as nm\n",
    "plt.style.use('seaborn-v0_8-whitegrid')\n",
    "\n",
    "def h(x, floattype):\n",
    "    \"\"\"Function to differentiate.\"\"\"\n",
    "    return np.cos( (np.pi * (x - 1) ) / 2 ) * np.exp( - ( (x - 3) / 2.5)**2 )\n",
    "\n",
    "def analytical(xx, floattype):\n",
    "    \"\"\"Analytical derivative for comparison.\"\"\"\n",
    "    return np.exp( -floattype(0.16) * (-3 + xx)**2) * (floattype(1.5708) * np.cos((np.pi*xx) / 2) \\\n",
    "                   - (-floattype(0.96) + floattype(0.32) * xx) * np.sin((np.pi * xx) / 2))\n",
    "\n",
    "def calculate_error(nint, floattype):\n",
    "    \"\"\"Calculate the error in the derivative \n",
    "    \n",
    "    Parameters\n",
    "    ----------\n",
    "    nint : `int`\n",
    "        Number of intervals\n",
    "    floattype : `type`\n",
    "        Type of float to use`\n",
    "    \n",
    "    Returns\n",
    "    -------\n",
    "    error : `float`\n",
    "        The error in the derivative\n",
    "    \"\"\"\n",
    "    x0 = floattype(-4.0)\n",
    "    xf = floattype(10.0)\n",
    "    nump = nint + 1\n",
    "    xx = np.arange(nump)/(nump-1) * (xf-x0) + x0\n",
    "    pxl = xx[1] - xx[0]\n",
    "    hp = nm.deriv_dnw(xx, h(xx, floattype))\n",
    "\n",
    "    return np.max(np.abs(hp - analytical(xx+pxl/2, floattype)))"
   ]
  },
  {
   "cell_type": "code",
   "execution_count": 11,
   "metadata": {},
   "outputs": [],
   "source": [
    "def floats_comparison(floattype, nints):\n",
    "    r\"\"\"Compare the error of the numerical derivative for different float types.\n",
    "    \n",
    "    Parameters\n",
    "    ----------\n",
    "    floattype : `type`\n",
    "        The type of float to use for the calculation.\n",
    "    nints : `list of int`\n",
    "        The number of intervals to use for the numerical derivative.\n",
    "        \n",
    "    Returns\n",
    "    -------\n",
    "    errors : `list of float`\n",
    "        The error for each number of intervals.\n",
    "    \"\"\"\n",
    "\n",
    "    errors = []\n",
    "\n",
    "    for n in nints:\n",
    "        errors.append(floattype(calculate_error(n, floattype)))\n",
    "\n",
    "    return errors\n"
   ]
  },
  {
   "cell_type": "code",
   "execution_count": 12,
   "metadata": {},
   "outputs": [],
   "source": [
    "nints  = [1e6, 2e6, 3e6, 4e6, 5e6] \n",
    "\n",
    "err16 = floats_comparison(np.float16, nints)\n",
    "err32 = floats_comparison(np.float32, nints)\n",
    "err64 = floats_comparison(np.float64, nints)"
   ]
  },
  {
   "cell_type": "code",
   "execution_count": 13,
   "metadata": {},
   "outputs": [
    {
     "data": {
      "image/png": "[encoded data removed]",
      "text/plain": [
       "<Figure size 900x300 with 3 Axes>"
      ]
     },
     "metadata": {},
     "output_type": "display_data"
    }
   ],
   "source": [
    "fig, ax = plt.subplots(1, 3, figsize=(9, 3))\n",
    "\n",
    "ax[0].scatter(np.log10(nints), np.log10(err16), marker='x'); ax[0].set(title='float16', xlabel='log10(nint)', ylabel='log10(err)')\n",
    "ax[1].scatter(np.log10(nints), np.log10(err32), marker='x'); ax[1].set(title='float32', xlabel='log10(nint)', ylabel='log10(err)')\n",
    "ax[2].scatter(np.log10(nints), np.log10(err64), marker='x'); ax[2].set(title='float64', xlabel='log10(nint)', ylabel='log10(err)')\n",
    "\n",
    "plt.tight_layout()"
   ]
  },
  {
   "attachments": {},
   "cell_type": "markdown",
   "metadata": {},
   "source": [
    "I do not think the `float16` works at all. "
   ]
  },
  {
   "attachments": {},
   "cell_type": "markdown",
   "metadata": {},
   "source": [
    "<span style=\"color:green\">JMS</span>.\n",
    "\n",
    "<span style=\"color:blue\">Good. Agree float16 is not able to resolve the calculations at any resolution. </span>.\n",
    "\n",
    "<span style=\"color:red\"> Could you explain what do you see for 32 and 64. Any idea why this behaviour. </span>.\n",
    "\n",
    "<span style=\"color:orange\">Minor comments: Add some minor comments in def functions, typically the description in functions are as follows</span>.\n",
    "\n",
    "    r\"\"\"\n",
    "    A sentences on what is the propose of the function.\n",
    "    \n",
    "    Requires\n",
    "    ----------\n",
    "    libraries or functions \n",
    "\n",
    "    Parameters\n",
    "    ----------\n",
    "    xx : `array`\n",
    "        description and if applies what is the default values. \n",
    "\n",
    "    Returns\n",
    "    ------- \n",
    "    t : `array`\n",
    "        description \n",
    "    \"\"\""
   ]
  },
  {
   "attachments": {},
   "cell_type": "markdown",
   "metadata": {},
   "source": [
    "<span style=\"color:green\">JMS</span>.\n",
    "\n",
    "<span style=\"color:red\">Still I have problems here with the size of the arrays.</span>."
   ]
  },
  {
   "cell_type": "markdown",
   "metadata": {},
   "source": []
  }
 ],
 "metadata": {
  "kernelspec": {
   "display_name": "ast_env",
   "language": "python",
   "name": "ast_env"
  },
  "language_info": {
   "codemirror_mode": {
    "name": "ipython",
    "version": 3
   },
   "file_extension": ".py",
   "mimetype": "text/x-python",
   "name": "python",
   "nbconvert_exporter": "python",
   "pygments_lexer": "ipython3",
   "version": "3.10.8"
  },
  "vscode": {
   "interpreter": {
    "hash": "f027c620a5e9d19077033d78e752c7d96c89e46db3c0a3c6971446e05417ad85"
   }
  }
 },
 "nbformat": 4,
 "nbformat_minor": 4
}
