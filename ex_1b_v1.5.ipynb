{
 "cells": [
  {
   "cell_type": "markdown",
   "metadata": {},
   "source": [
    "# Analytical and numerical calculation of the order of approximation of a derivative calculated through finite differences (optional)."
   ]
  },
  {
   "cell_type": "markdown",
   "metadata": {},
   "source": [
    "## 1 – The numerical test of the high-order formula"
   ]
  },
  {
   "cell_type": "markdown",
   "metadata": {},
   "source": [
    "Implement the finite difference formula given by the first term on the right of Eq (5) in the [wiki](https://github.com/AST-Course/AST5110/wiki/Discretization)  into the program you developed for Exercise 1a and test if you get an approximation to the first derivative with an error that converges to zero like $(\\Delta x)^4$."
   ]
  },
  {
   "cell_type": "markdown",
   "metadata": {},
   "source": [
    "Compare the 2nd-order and 4th-order error curves. Which error do you get in either case for 128 intervals? For 512 intervals? For 1024 intervals?"
   ]
  },
  {
   "attachments": {},
   "cell_type": "markdown",
   "metadata": {},
   "source": [
    "## 2 - Precision\n",
    "\n",
    "Try for more than $10^6$ grid points. What do you see? What happens if you try for a lower or higher floating number? Numpy uses float 64 as default. Instead, use `np.float32` and `np.float128` (note: `np.float128` sometimes gives an error with `np.roll`!). Explain the error slopes. "
   ]
  },
  {
   "cell_type": "code",
   "execution_count": 1,
   "metadata": {},
   "outputs": [],
   "source": [
    "import numpy as np\n",
    "import matplotlib.pyplot as plt\n",
    "from nm_lib import nm_lib as nm\n",
    "plt.style.use('seaborn-v0_8-whitegrid')\n",
    "\n",
    "def h(x, floattype):\n",
    "    \"\"\"Function to differentiate.\"\"\"\n",
    "    return np.cos( (np.pi * (x - 1) ) / 2 ) * np.exp( - ( (x - 3) / 2.5)**2 )\n",
    "\n",
    "def analytical(xx, floattype):\n",
    "    \"\"\"Analytical derivative for comparison.\"\"\"\n",
    "    return np.exp( -floattype(0.16) * (-3 + xx)**2) * (floattype(1.5708) * np.cos((np.pi*xx) / 2) \\\n",
    "                   - (-floattype(0.96) + floattype(0.32) * xx) * np.sin((np.pi * xx) / 2))\n",
    "\n",
    "def calculate_error(nint, floattype):\n",
    "    \"\"\"Calculate the error in the derivative \n",
    "    \n",
    "    Parameters\n",
    "    ----------\n",
    "    nint : `int`\n",
    "        Number of intervals\n",
    "    floattype : `type`\n",
    "        Type of float to use`\n",
    "    \n",
    "    Returns\n",
    "    -------\n",
    "    error : `float`\n",
    "        The error in the derivative\n",
    "    \"\"\"\n",
    "    x0 = floattype(-4.0)\n",
    "    xf = floattype(10.0)\n",
    "\n",
    "    nump = nint + 1\n",
    "    xx = floattype(np.arange(nump)/(nump-1) * (xf-x0) + x0)\n",
    "    pxl = xx[1] - xx[0]\n",
    "    hp = nm.deriv_dnw(xx, h(xx, floattype))\n",
    "\n",
    "    return np.max(np.abs(hp - analytical(xx+pxl/2, floattype)))"
   ]
  },
  {
   "cell_type": "code",
   "execution_count": 2,
   "metadata": {},
   "outputs": [],
   "source": [
    "def floats_comparison(floattype, nints):\n",
    "    r\"\"\"Compare the error of the numerical derivative for different float types.\n",
    "    \n",
    "    Parameters\n",
    "    ----------\n",
    "    floattype : `type`\n",
    "        The type of float to use for the calculation.\n",
    "    nints : `list of int`\n",
    "        The number of intervals to use for the numerical derivative.\n",
    "        \n",
    "    Returns\n",
    "    -------\n",
    "    errors : `list of float`\n",
    "        The error for each number of intervals.\n",
    "    \"\"\"\n",
    "\n",
    "    errors = []\n",
    "\n",
    "    for n in nints:\n",
    "        errors.append(floattype(calculate_error(n, floattype)))\n",
    "\n",
    "    return errors\n"
   ]
  },
  {
   "cell_type": "code",
   "execution_count": 3,
   "metadata": {},
   "outputs": [
    {
     "name": "stderr",
     "output_type": "stream",
     "text": [
      "/Users/alinebrunvoll/Documents/AST5110/nm_lib/nm_lib/nm_lib.py:36: RuntimeWarning: invalid value encountered in divide\n",
      "  hp = (np.roll(hh, -1) - hh) / (np.roll(xx, -1) - xx)\n"
     ]
    }
   ],
   "source": [
    "nints = [16, 32, 64, 128, 256, 512, 1024, 2048, 4096, 8192, 16384, 1e6, 3e6]\n",
    "\n",
    "err16 = floats_comparison(np.float16, nints)\n",
    "err32 = floats_comparison(np.float32, nints)\n",
    "err64 = floats_comparison(np.float64, nints)"
   ]
  },
  {
   "cell_type": "code",
   "execution_count": 4,
   "metadata": {},
   "outputs": [
    {
     "data": {
      "image/png": "[encoded data removed]",
      "text/plain": [
       "<Figure size 900x300 with 3 Axes>"
      ]
     },
     "metadata": {},
     "output_type": "display_data"
    }
   ],
   "source": [
    "fig, ax = plt.subplots(1, 3, figsize=(9, 3), sharey=True)\n",
    "\n",
    "ax[0].scatter(np.log10(nints), np.log10(err16), marker='x'); ax[0].set(title='float16', xlabel='log10(nint)', ylabel='log10(err)')\n",
    "ax[1].scatter(np.log10(nints), np.log10(err32), marker='x'); ax[1].set(title='float32', xlabel='log10(nint)', ylabel='log10(err)')\n",
    "ax[2].scatter(np.log10(nints), np.log10(err64), marker='x'); ax[2].set(title='float64', xlabel='log10(nint)', ylabel='log10(err)')\n",
    "\n",
    "plt.tight_layout()"
   ]
  },
  {
   "attachments": {},
   "cell_type": "markdown",
   "metadata": {},
   "source": [
    "<span style=\"color:#78AE7E\">\n",
    "\n",
    "We see that the error for `float16` is the odd one out, and looks much less precise than the errors for `float32` and `float64`. It also has fewer points, and printing the value of the `float16` reveals that the final few values are `NaN`s. \n",
    "\n",
    "</span>"
   ]
  },
  {
   "cell_type": "code",
   "execution_count": 5,
   "metadata": {},
   "outputs": [
    {
     "name": "stdout",
     "output_type": "stream",
     "text": [
      "[0.127, 0.04004, 0.01367, 0.00879, 0.013916, 0.03882, 0.2017, nan, nan, nan, nan, nan, nan]\n"
     ]
    }
   ],
   "source": [
    "print(err16)"
   ]
  },
  {
   "attachments": {},
   "cell_type": "markdown",
   "metadata": {},
   "source": [
    "<span style=\"color:#78AE7E\">\n",
    "\n",
    "The `float32`and `float64` errors both follow a slope before they flatten out, meaning that after a certain point, there is no use for adding more gridpoints to the calculation, since the accuracy won't increase much, while the computational power required will. \n",
    "For the `float32` type, the errors actually begin to increase again after a certain amount of intervals. \n",
    "\n",
    "I will do a linear fit of these slopes to examine the order of the lines.\n",
    "\n",
    "</span>"
   ]
  },
  {
   "cell_type": "code",
   "execution_count": 6,
   "metadata": {},
   "outputs": [
    {
     "data": {
      "image/png": "[encoded data removed]",
      "text/plain": [
       "<Figure size 900x300 with 3 Axes>"
      ]
     },
     "metadata": {},
     "output_type": "display_data"
    }
   ],
   "source": [
    "fig, ax = plt.subplots(1, 3, figsize=(9, 3), sharey=True)\n",
    "\n",
    "# Fit lines to the errors\n",
    "# line16 = np.poly1d(np.polyfit(np.log10(nints[:-3]), np.log10(err16[:-3]), deg=1))\n",
    "line32 = np.poly1d(np.polyfit(np.log10(nints[:-8]), np.log10(err32[:-8]), deg=1))\n",
    "line64 = np.poly1d(np.polyfit(np.log10(nints[:-8]), np.log10(err64[:-8]), deg=1))\n",
    "\n",
    "# Plot errors\n",
    "ax[0].scatter(np.log10(nints), np.log10(err16), marker='x', label='errors') \n",
    "ax[1].scatter(np.log10(nints), np.log10(err32), marker='x', label='errors') \n",
    "ax[2].scatter(np.log10(nints), np.log10(err64), marker='x', label='errors')\n",
    "\n",
    "# Plot linear fits\n",
    "# ax[0].plot(np.log10(nints), line16(np.log10(nints)), label='linear fit', ls=':', c='k', alpha=0.5)\n",
    "ax[1].plot(np.log10(nints), line32(np.log10(nints)), label='linear fit', ls=':', c='k', alpha=0.5)\n",
    "ax[2].plot(np.log10(nints), line64(np.log10(nints)), label='linear fit', ls=':', c='k', alpha=0.5)\n",
    "\n",
    "# Layout for plots\n",
    "ax[0].set(title='float16', xlabel='log10(nint)', ylabel='log10(err)')\n",
    "ax[1].set(title='float32', xlabel='log10(nint)', ylabel='log10(err)')\n",
    "ax[2].set(title='float64', xlabel='log10(nint)', ylabel='log10(err)')\n",
    "ax[0].legend(loc='lower left'); ax[1].legend(loc='lower left'); ax[2].legend(loc='lower left')\n",
    "\n",
    "plt.tight_layout()\n"
   ]
  },
  {
   "attachments": {},
   "cell_type": "markdown",
   "metadata": {},
   "source": [
    "<span style=\"color:#78AE7E\">\n",
    "\n",
    "I am unable to fit the `float16` error, since `float16` is not supported in `np.poly1d`. However, we clearly see that the slope of the `float16` error is much less steep than the other float types, and that `float16` is not a good choice for this problem.\n",
    "\n",
    "</span>"
   ]
  },
  {
   "cell_type": "code",
   "execution_count": 7,
   "metadata": {},
   "outputs": [
    {
     "name": "stdout",
     "output_type": "stream",
     "text": [
      "slope for float32: -1.9242170343833145\n",
      "slope for float64: -1.926045275235519\n"
     ]
    }
   ],
   "source": [
    "print('slope for float32:', line32.coef[0])\n",
    "print('slope for float64:', line64.coef[0])"
   ]
  },
  {
   "attachments": {},
   "cell_type": "markdown",
   "metadata": {},
   "source": [
    "<span style=\"color:#78AE7E\">\n",
    "\n",
    "Both the `float32` and `float64` errors have slopes close to -2, meaning that the error has a quadratic dependence on the number of gridpoints. At around `nint=256`, the errors stop decreasing with a quadratic dependence, and begin to flatten out (at least on the logarithmic scale). I assume this is due to the limits on machine precision.\n",
    "\n",
    "In the plot of the `float16` and `float32` errors, we also see that the errors begin to increase again after a certain amount of intervals. (for `float16` after 128 intervals, and for `float32` after around 1e6 intervals). This might be due to the floating point errors that occur when doing operations with very small numbers.\n",
    "\n",
    "</span>"
   ]
  },
  {
   "attachments": {},
   "cell_type": "markdown",
   "metadata": {},
   "source": [
    "<span style=\"color:green\">JMS</span>.\n",
    "\n",
    "<span style=\"color:blue\">Good. Agree float16 is not able to resolve the calculations at any resolution. </span>.\n",
    "\n",
    "<span style=\"color:red\"> Could you explain what do you see for 32 and 64. Any idea why this behaviour. </span>.\n",
    "\n",
    "<span style=\"color:orange\">Minor comments: Add some minor comments in def functions, typically the description in functions are as follows</span>.\n",
    "\n",
    "    r\"\"\"\n",
    "    A sentences on what is the propose of the function.\n",
    "    \n",
    "    Requires\n",
    "    ----------\n",
    "    libraries or functions \n",
    "\n",
    "    Parameters\n",
    "    ----------\n",
    "    xx : `array`\n",
    "        description and if applies what is the default values. \n",
    "\n",
    "    Returns\n",
    "    ------- \n",
    "    t : `array`\n",
    "        description \n",
    "    \"\"\""
   ]
  },
  {
   "attachments": {},
   "cell_type": "markdown",
   "metadata": {},
   "source": [
    "<span style=\"color:green\">JMS</span>.\n",
    "\n",
    "<span style=\"color:red\">Still I have problems here with the size of the arrays.</span>."
   ]
  },
  {
   "cell_type": "markdown",
   "metadata": {},
   "source": []
  }
 ],
 "metadata": {
  "kernelspec": {
   "display_name": "ast_env",
   "language": "python",
   "name": "ast_env"
  },
  "language_info": {
   "codemirror_mode": {
    "name": "ipython",
    "version": 3
   },
   "file_extension": ".py",
   "mimetype": "text/x-python",
   "name": "python",
   "nbconvert_exporter": "python",
   "pygments_lexer": "ipython3",
   "version": "3.10.8"
  },
  "vscode": {
   "interpreter": {
    "hash": "f027c620a5e9d19077033d78e752c7d96c89e46db3c0a3c6971446e05417ad85"
   }
  }
 },
 "nbformat": 4,
 "nbformat_minor": 4
}
