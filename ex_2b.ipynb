{
 "cells": [
  {
   "attachments": {},
   "cell_type": "markdown",
   "metadata": {},
   "source": [
    "> Aline's comments will be in quote blocks like this one. :)"
   ]
  },
  {
   "cell_type": "markdown",
   "metadata": {},
   "source": [
    "# A first example of a numerical simulation"
   ]
  },
  {
   "cell_type": "markdown",
   "metadata": {},
   "source": [
    "In this exercise, you will conduct a first instance of numerical simulation of the time evolution of a system. We will solve an advection equation of the form"
   ]
  },
  {
   "cell_type": "markdown",
   "metadata": {},
   "source": [
    "$$\\frac{\\partial u}{\\partial t} + a \\frac{\\partial u}{\\partial x} = 0  \\tag{1}$$"
   ]
  },
  {
   "cell_type": "markdown",
   "metadata": {},
   "source": [
    "with $a$ being a __constant__. In subsequent exercises, more general cases will be considered, with $a$ no longer constant."
   ]
  },
  {
   "cell_type": "markdown",
   "metadata": {},
   "source": [
    "## 1 – The $a = const$ case: the mathematical problem"
   ]
  },
  {
   "cell_type": "markdown",
   "metadata": {},
   "source": [
    "We would like to solve equation (1) numerically for $x  [x_0, x_f]$ with $x_0 = −2.6$, $x_f = 2.6$, periodic boundary conditions and with the initial condition:"
   ]
  },
  {
   "cell_type": "markdown",
   "metadata": {},
   "source": [
    "$$u(x,t=t_0) = \\cos^2 \\left(\\frac{6 \\pi x}{5} \\right) / \\cosh(5x^2) \\tag{2}$$"
   ]
  },
  {
   "cell_type": "markdown",
   "metadata": {},
   "source": [
    "We start by representing that function in the given interval."
   ]
  },
  {
   "cell_type": "code",
   "execution_count": null,
   "metadata": {},
   "outputs": [],
   "source": [
    "import numpy as np\n",
    "import matplotlib.pyplot as plt\n",
    "plt.style.use('seaborn-v0_8-whitegrid')\n",
    "\n",
    "import matplotlib as mpl\n",
    "mpl.rc('lines', linewidth=2)\n",
    "\n",
    "from nm_lib import nm_lib as nm"
   ]
  },
  {
   "cell_type": "code",
   "execution_count": null,
   "metadata": {},
   "outputs": [],
   "source": [
    "def u_0(x: np.ndarray, t: float = 0) -> np.ndarray:\n",
    "    r\"\"\"\n",
    "    Initial condition for the advection equation.\n",
    "\n",
    "    Parameters\n",
    "    ----------\n",
    "    x : `array`\n",
    "        the x-axis.\n",
    "    t : `float`\n",
    "        the time.\n",
    "    \n",
    "    Returns\n",
    "    -------\n",
    "    `array`\n",
    "        the initial condition.\n",
    "    \"\"\"\n",
    "    return np.cos(6*np.pi*x / 5)**2 / np.cosh(5*x**2)\n",
    "\n",
    "nx = 128 # Best number of grid points\n",
    "\n",
    "x0 = -2.6\n",
    "xf = 2.6\n",
    "xx = np.linspace(x0, xf, nx) \n",
    "\n",
    "plt.plot(xx, u_0(xx))"
   ]
  },
  {
   "attachments": {},
   "cell_type": "markdown",
   "metadata": {},
   "source": [
    "> Here we see the initial function $u(x,t=t_0) = \\cos^2 \\left(\\frac{6 \\pi x}{5} \\right) / \\cosh(5x^2)$ in all its glory. "
   ]
  },
  {
   "cell_type": "markdown",
   "metadata": {},
   "source": [
    "## 2 – Spatial derivative."
   ]
  },
  {
   "cell_type": "markdown",
   "metadata": {},
   "source": [
    "We discretize the initial condition by subdividing the spatial domain into $nint=64$ equal intervals. The function will therefore be sampled with $nump=65$ points, namely $(u_0, u_1, u_2, ... , u_{nump−1})$ at equidistant values of the abscissa, $(x_0, x_1, x_2, ..., x_{nump−1})$. Let us calculate the spatial derivative of the function through non-centered finite differences of the form:"
   ]
  },
  {
   "cell_type": "markdown",
   "metadata": {},
   "source": [
    "$$\\left(\\frac{\\partial u}{\\partial x}\\right)_{x=x_i} \\rightarrow \\frac{u_{i+1}-u_{i}}{\\Delta x}  \\tag{3}$$"
   ]
  },
  {
   "cell_type": "markdown",
   "metadata": {},
   "source": [
    "On the basis of the experience gained with the previous batch of exercises (ex. 1), which order of approximation can we expect now for the calculation of the derivative since we are using non-centered finite differences?"
   ]
  },
  {
   "attachments": {},
   "cell_type": "markdown",
   "metadata": {},
   "source": [
    "> This scheme is similar to our previously used downwind scheme, which has order of approximation 2. So this one has the same order of approximation."
   ]
  },
  {
   "cell_type": "markdown",
   "metadata": {},
   "source": [
    "## 3 – Time advance."
   ]
  },
  {
   "cell_type": "markdown",
   "metadata": {},
   "source": [
    "We want to calculate an approximation to the value of the function at times later than $t = t_0$, for instance, at time $t_0 + \\Delta t$. To that end, we carry out a discretization of the time axis, calculating approximate values for the time derivative as follows:"
   ]
  },
  {
   "cell_type": "markdown",
   "metadata": {},
   "source": [
    "$$\\left(\\frac{\\partial u}{\\partial t}\\right)_{\\underset{t=t_0}{x=x_i}} \\rightarrow \\frac{u_i(t_0 + \\Delta t)-u_i(t_0)}{\\Delta t}\\tag{4}$$"
   ]
  },
  {
   "cell_type": "markdown",
   "metadata": {},
   "source": [
    "Using now the differential equation (1) and expression (3), we can calculate an approximate value for the function $u$ at $x_i$ and time $t_0 + \\Delta t$ as follows:"
   ]
  },
  {
   "cell_type": "markdown",
   "metadata": {},
   "source": [
    "$$u_i(t_0+\\Delta t) = u_i(t_0) - a \\frac{u_{i+1}(t_0) - u_i(t_0)}{\\Delta x}\\Delta t  \\tag{5}$$"
   ]
  },
  {
   "cell_type": "markdown",
   "metadata": {},
   "source": [
    "Using (5), calculate $u_i$ at time $t_0 + \\Delta t$ at all points of the sample excluding the rightmost point (i.e., excluding $x_{nump−1}$). Use  $\\Delta t = 0.98 \\Delta x/|a|$ and a = −1. Fill in `nm_lib` the functions `step_adv_burgers` and `cfl_adv_burger`. "
   ]
  },
  {
   "cell_type": "code",
   "execution_count": null,
   "metadata": {},
   "outputs": [],
   "source": [
    "a = -1\n",
    "nx = 128 \n",
    "\n",
    "xx = np.linspace(x0, xf, nx) \n",
    "dt, rhs = nm.step_adv_burgers(xx, u_0(xx), a=a) \n",
    "\n",
    "plt.plot(xx, u_0(xx), label='t=0')\n",
    "\n",
    "u1 = u_0(xx) + dt * rhs \n",
    "plt.plot(xx, u1, label='t=1')\n",
    "plt.legend()"
   ]
  },
  {
   "attachments": {},
   "cell_type": "markdown",
   "metadata": {},
   "source": [
    "> Here we have used the `step_adv_burgers` method and manually calculated the next timestep in order to verify the method. We see that the solution moves to the left after one timestep."
   ]
  },
  {
   "cell_type": "markdown",
   "metadata": {},
   "source": [
    "## 4 – The boundaries."
   ]
  },
  {
   "cell_type": "markdown",
   "metadata": {},
   "source": [
    "To calculate the function at the rightmost point of the interval, we use a periodicity condition on $u$: $u_{nump−1}(t_0 + \\Delta t) = u_0(t_0 + \\Delta t)$. Consider cutting the ill-calculated (or missing) grid points and using `NumPy.pad` to add different boundary conditions. Use `wrap`"
   ]
  },
  {
   "cell_type": "code",
   "execution_count": null,
   "metadata": {},
   "outputs": [],
   "source": [
    "nt = 200\n",
    "nx = 128 \n",
    "\n",
    "xx = np.linspace(x0, xf, nx) \n",
    "t, unnt = nm.evolv_adv_burgers(xx, u_0(xx), nt, a=-1)\n",
    "\n",
    "plt.plot(xx, u_0(xx), label='t = 0.00')\n",
    "plt.plot(xx, unnt[:, 150], label=f't = {t[150]:.2f}')\n",
    "plt.legend()"
   ]
  },
  {
   "attachments": {},
   "cell_type": "markdown",
   "metadata": {},
   "source": [
    "> Having implemented the periodic boundary conditions, we can already see how the numerical solution *diffuses* in time. "
   ]
  },
  {
   "cell_type": "markdown",
   "metadata": {},
   "source": [
    "## 5 – Subsequent steps in time."
   ]
  },
  {
   "cell_type": "markdown",
   "metadata": {},
   "source": [
    "Having calculated the values $u_i$, $i = 0, 1, 2, ...,nump−1,$ at time $t_0+\\Delta t$, we can carry out another step in time of size $\\Delta t$, following exactly the method just explained. In general, if we have calculated the value of the $u$ function at $x_i$ and time $n\\Delta t$, which we will call $u^n_i$, we can carry out the next step in time, of size $\\Delta t$, through the expression:"
   ]
  },
  {
   "cell_type": "markdown",
   "metadata": {},
   "source": [
    "$$u_i^{n+1} = u_i^n - a \\frac{u_{i+1}^n - u_i^n}{\\Delta x}\\Delta t  \\tag{6}$$"
   ]
  },
  {
   "cell_type": "markdown",
   "metadata": {},
   "source": [
    "Periodic boundary conditions must be applied, as explained in 4 above, to finish the calculation at each timestep. Fill in nm_lib the function `evolv_adv_burgers`. "
   ]
  },
  {
   "cell_type": "markdown",
   "metadata": {},
   "source": [
    "Carry out many steps in time so you can clearly understand the mathematical nature of the solution of the equation. For example, in Python, you can _matplotlib.animation_ to see the evolution. "
   ]
  },
  {
   "cell_type": "code",
   "execution_count": null,
   "metadata": {},
   "outputs": [],
   "source": [
    "nt = 300\n",
    "nx = 100\n",
    "xx = np.linspace(x0, xf, nx) \n",
    "t, unnt = nm.evolv_adv_burgers(xx, u_0(xx), nt, a=a)\n",
    "\n",
    "from matplotlib import animation\n",
    "from matplotlib.animation import FuncAnimation\n",
    "from IPython.display import HTML\n",
    "fig, axes = plt.subplots(nrows=1, ncols=1, figsize=(7, 3))\n",
    "\n",
    "def init(): \n",
    "    axes.plot(xx,unnt[:,0])\n",
    "\n",
    "def animate(i):\n",
    "    axes.clear()\n",
    "    axes.plot(xx,unnt[:,i])\n",
    "    axes.set_title('t=%.2f'%t[i])\n",
    "    axes.set_ylim(-0.05, 1.05)\n",
    "    \n",
    "anim = FuncAnimation(fig, animate, interval=10, frames=nt, init_func=init)\n",
    "plt.close()\n",
    "HTML(anim.to_jshtml())"
   ]
  },
  {
   "attachments": {},
   "cell_type": "markdown",
   "metadata": {},
   "source": [
    "> For a better result, I would increase `nx`, but this will make rendering the animation a lot slower."
   ]
  },
  {
   "attachments": {},
   "cell_type": "markdown",
   "metadata": {},
   "source": [
    "\n",
    "> We see that the function gets slightly deformed after many timesteps. Increasing the amount of grid points minimizes this error, but it is still easy to see that the solution deforms after a while."
   ]
  },
  {
   "cell_type": "markdown",
   "metadata": {},
   "source": [
    "## 6 – Comparison with the exact solution."
   ]
  },
  {
   "cell_type": "markdown",
   "metadata": {},
   "source": [
    "Through one of the theory sessions, we know the exact solution of eq. (1) for the initial condition (2). Draw the exact solution on top of the numerical one using a dashed line. Then, explain the mathematical behavior of the solution. __Important note__: consider that the initial condition is eq (2) in $[x_0, x_f]$, _with periodic conditions at the boundaries_. In other words, the initial condition consists of an infinite repetition of the function (2) you represented between $[x_0, x_f]$ next to each other. Use this fact when comparing your numerical solution with the analytical one. __Hint__: if you consider points starting within the interval $(x_0, x_f)$ and moving with speed $a$, they will go outside the domain after some time. Use mod operator (\\% in Python) to bring them back into the domain respecting the periodicity of the problem or _numpy.pad_ to pad ghost points, i.e., points out of the numerical domain, which will allow defining the boundaries, at both ends of the numerical domain. NumPy.pad allows various types of boundaries."
   ]
  },
  {
   "cell_type": "code",
   "execution_count": null,
   "metadata": {},
   "outputs": [],
   "source": [
    "def analytical(\n",
    "    xx: np.ndarray, t: np.ndarray) -> np.ndarray:\n",
    "    r\"\"\"\n",
    "    Analytical solution to the advection equation.\n",
    "\n",
    "    Requires\n",
    "    ----------\n",
    "    u(xx) : `function`\n",
    "\n",
    "    Parameters\n",
    "    ----------\n",
    "    xx : `array`\n",
    "         the x-axis.\n",
    "    t  : `array`\n",
    "         the time. \n",
    "\n",
    "    Returns\n",
    "    ------- \n",
    "    `array`\n",
    "        the analytical solution over the times `t`.\n",
    "    \"\"\"\n",
    "\n",
    "    u_an = np.zeros((len(xx), len(t)))\n",
    "    x_new = np.zeros((len(xx), len(t)))\n",
    "\n",
    "    for i in range(len(t)):\n",
    "\n",
    "        x_new[:, i] = ((xx - a * t[i] ) - x0) % (xf - x0) + x0\n",
    "        u_an[:, i] = u_0(x_new[:, i])\n",
    "    \n",
    "    return u_an"
   ]
  },
  {
   "cell_type": "code",
   "execution_count": null,
   "metadata": {},
   "outputs": [],
   "source": [
    "nt = 300\n",
    "nx = 100\n",
    "xx = np.linspace(x0, xf, nx) \n",
    "\n",
    "t, unnt = nm.evolv_adv_burgers(xx, u_0(xx), nt, a=a)\n",
    "u_an = analytical(xx, t)"
   ]
  },
  {
   "cell_type": "code",
   "execution_count": null,
   "metadata": {},
   "outputs": [],
   "source": [
    "fig, axes = plt.subplots(nrows=1, ncols=1, figsize=(7, 3))\n",
    "\n",
    "def init(): \n",
    "    axes.plot(xx, unnt[:, 0])\n",
    "    axes.plot(xx, u_an[:, 0], ls='--')\n",
    "\n",
    "def animate(i):\n",
    "    axes.clear()\n",
    "    axes.plot(xx, u_an[:, i], c='k', label='analytical')\n",
    "    axes.plot(xx, unnt[:, i], ls='--', label='numerical')\n",
    "    axes.set_title('t=%.2f'%t[i])\n",
    "    axes.set_ylim(-0.05, 1.05)\n",
    "    axes.legend(loc='upper right')\n",
    "    \n",
    "anim = FuncAnimation(fig, animate, interval=10, frames=nt, init_func=init)\n",
    "plt.close()\n",
    "HTML(anim.to_jshtml())"
   ]
  },
  {
   "attachments": {},
   "cell_type": "markdown",
   "metadata": {},
   "source": [
    "> We see that the numerical solution diffuses compared to the numerical solution, which has the same shape as the function moves."
   ]
  },
  {
   "cell_type": "markdown",
   "metadata": {},
   "source": [
    "Add a CI/CD pipeline to run this test and validate each push commit. This lets us know if a specific submitted change damages the existing code. For this, fill in ./github/workflows/test.yml"
   ]
  },
  {
   "attachments": {},
   "cell_type": "markdown",
   "metadata": {},
   "source": [
    "> The test function is found on GitHub on the path `alinebrunvoll/nm_lib/nm_lib/test/test_ex_2b.py`. It runs automatically for each new commit to the `nm_lib` repository. I also tried at one point to use a test that wouldn't pass, just to see what would happen. "
   ]
  },
  {
   "cell_type": "markdown",
   "metadata": {},
   "source": [
    "## 7 – Resolution increase in space and time. "
   ]
  },
  {
   "cell_type": "markdown",
   "metadata": {},
   "source": [
    "Let us repeat the calculation of the previous paragraphs, increasing the number of space intervals by factors of 2. Check if the numerical solution gets increasingly close to the analytical solution. Important: the comparison must be made _for the same values of $x$ and $t$ for all resolutions you check_. Choose a fixed time when the traveling function has already gone through the whole domain a few times. "
   ]
  },
  {
   "cell_type": "code",
   "execution_count": null,
   "metadata": {},
   "outputs": [],
   "source": [
    "nt = 1000\n",
    "\n",
    "nx_1 = 100\n",
    "nx_2 = 400\n",
    "\n",
    "xx_1 = np.linspace(x0, xf, nx_1)\n",
    "xx_2 = np.linspace(x0, xf, nx_2)\n",
    "\n",
    "t_1, unnt_1 = nm.evolv_adv_burgers(xx_1, u_0(xx_1), nt, a=a)\n",
    "t_2, unnt_2 = nm.evolv_adv_burgers(xx_2, u_0(xx_2), nt, a=a)\n",
    "\n",
    "u_an_1 = analytical(xx_1, t_1)\n",
    "u_an_2 = analytical(xx_2, t_2)\n",
    "\n",
    "\n",
    "# finding the (roughly) same time for both solutions\n",
    "t_ind_1 = np.where(np.isclose(t_1, 20.0, 0.4))[0][0]\n",
    "t_ind_2 = np.where(np.isclose(t_2, 20.0, 0.4))[0][0]\n",
    "\n",
    "\n",
    "# plotting\n",
    "fig, ax = plt.subplots(1, 2, figsize=(10, 4))\n",
    "\n",
    "ax[0].plot(xx_1, u_an_1[:, t_ind_1], label='analytical')\n",
    "ax[0].plot(xx_1, unnt_1[:, t_ind_1], ls='--', label='numerical')\n",
    "ax[0].set_title(f'nx={nx_1}, t={t_1[t_ind_1]:.2f}')\n",
    "ax[0].legend()\n",
    "\n",
    "ax[1].plot(xx_2, u_an_2[:, t_ind_2], label='analytical')\n",
    "ax[1].plot(xx_2, unnt_2[:, t_ind_2], ls='--', label='numerical')\n",
    "ax[1].set_title(f'nx={nx_2}, t={t_2[t_ind_2]:.2f}')\n",
    "ax[1].legend()"
   ]
  },
  {
   "attachments": {},
   "cell_type": "markdown",
   "metadata": {},
   "source": [
    "> We see clearly that when we increase the amount of gridpoints `nx`, the numerical solution diffuses more slowly, and thus stays closer to the analytical solution. "
   ]
  }
 ],
 "metadata": {
  "kernelspec": {
   "display_name": "ast_env",
   "language": "python",
   "name": "python3"
  },
  "language_info": {
   "codemirror_mode": {
    "name": "ipython",
    "version": 3
   },
   "file_extension": ".py",
   "mimetype": "text/x-python",
   "name": "python",
   "nbconvert_exporter": "python",
   "pygments_lexer": "ipython3",
   "version": "3.10.8"
  },
  "vscode": {
   "interpreter": {
    "hash": "76df6c33c70a89a28bc8d5fd16793c465ffdf984c5d47a1c1ea48d6375b2fc5e"
   }
  }
 },
 "nbformat": 4,
 "nbformat_minor": 4
}
