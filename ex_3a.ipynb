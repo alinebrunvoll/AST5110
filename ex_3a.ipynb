{
 "cells": [
  {
   "attachments": {},
   "cell_type": "markdown",
   "metadata": {},
   "source": [
    "<span style=\"color:#78AE7E\">\n",
    "\n",
    "Aline's comments are in green. :)\n",
    "\n",
    "<span>"
   ]
  },
  {
   "attachments": {},
   "cell_type": "markdown",
   "metadata": {},
   "source": [
    "<span style=\"color:#78AE7E\">\n",
    "\n",
    "\n",
    "\n",
    "<span>"
   ]
  },
  {
   "cell_type": "markdown",
   "metadata": {},
   "source": [
    "# The instability of numerical codes: symptoms"
   ]
  },
  {
   "cell_type": "markdown",
   "metadata": {},
   "source": [
    "The instability of numerical schemes and codes is one of the critical problems that a researcher using numerical experimentation may encounter. In this exercise, we are going to see how violent numerical instabilities can be."
   ]
  },
  {
   "cell_type": "markdown",
   "metadata": {},
   "source": [
    "## 1 – Numerical instability: violent development"
   ]
  },
  {
   "attachments": {},
   "cell_type": "markdown",
   "metadata": {},
   "source": [
    "1. Repeat the numerical simulation carried out __in exercise [ex_2a](https://github.com/AST-Course/AST5110/blob/main/ex_2a.ipynb)__, but now take $a = 1$ (it was $a = −1$); (use a moderate number of intervals, like, e.g., 128). Check out what happens. After how many timesteps does instability become evident?"
   ]
  },
  {
   "cell_type": "code",
   "execution_count": null,
   "metadata": {},
   "outputs": [],
   "source": [
    "import numpy as np\n",
    "import matplotlib.pyplot as plt\n",
    "plt.style.use('seaborn-v0_8-whitegrid')\n",
    "import matplotlib as mpl\n",
    "mpl.rc('lines', linewidth=2)\n",
    "\n",
    "from nm_lib import nm_lib as nm\n",
    "\n",
    "t0 = 0 # defining t0 here to appease the Jupyter Notebook gods\n",
    "\n",
    "def u(x, t=t0):\n",
    "    return np.cos(6*np.pi*x / 5)**2 / np.cosh(5*x**2)"
   ]
  },
  {
   "cell_type": "code",
   "execution_count": null,
   "metadata": {},
   "outputs": [],
   "source": [
    "# Setup for animations\n",
    "\n",
    "from matplotlib import animation\n",
    "from matplotlib.animation import FuncAnimation\n",
    "from IPython.display import HTML\n",
    "\n",
    "def init(): \n",
    "    \"\"\"Initialize animation\"\"\"\n",
    "    axes.plot(xx,unnt[:,0])\n",
    "\n",
    "def animate_lim(i):\n",
    "    \"\"\"Animate the solution with a fixed y-axis limit\"\"\"\n",
    "    axes.clear()\n",
    "    axes.plot(xx,unnt[:,i])\n",
    "    axes.set_title('t=%.2f'%t[i])\n",
    "    axes.set_ylim(-0.1, 1.1) \n",
    "\n",
    "def animate(i):\n",
    "    \"\"\"Animate the solution with dynamic axis limits\"\"\"\n",
    "    axes.clear()\n",
    "    axes.plot(xx,unnt[:,i])\n",
    "    axes.set_title('t=%.2f'%t[i])"
   ]
  },
  {
   "cell_type": "code",
   "execution_count": null,
   "metadata": {},
   "outputs": [],
   "source": [
    "# Define the domain and set a = 1\n",
    "x0 = -2.6\n",
    "xf = 2.6\n",
    "a = 1"
   ]
  },
  {
   "cell_type": "code",
   "execution_count": null,
   "metadata": {},
   "outputs": [],
   "source": [
    "N = 128\n",
    "nt = 50\n",
    "\n",
    "xx = np.linspace(x0, xf, N) \n",
    "t, unnt = nm.evolv_adv_burgers(xx, u(xx), nt, a=a)\n",
    "\n",
    "fig, axes = plt.subplots(nrows=1, ncols=1, figsize=(7, 3))\n",
    "anim = FuncAnimation(fig, animate, interval=50, frames=nt, init_func=init)\n",
    "plt.close(); HTML(anim.to_jshtml())"
   ]
  },
  {
   "attachments": {},
   "cell_type": "markdown",
   "metadata": {},
   "source": [
    "<span style=\"color:#78AE7E\">\n",
    "\n",
    "We see that the amplitude of the solution begins to increase immediately, which indicates that the solution is unstable from the beginning.\n",
    "\n",
    "<span>"
   ]
  },
  {
   "attachments": {},
   "cell_type": "markdown",
   "metadata": {},
   "source": [
    "Repeat the experiment with 1024 points (and afterward with any other power of 2 you may want to use). Is the experiment stable now? After how many timesteps does the instability become evident now?"
   ]
  },
  {
   "cell_type": "code",
   "execution_count": null,
   "metadata": {},
   "outputs": [],
   "source": [
    "N = 1024\n",
    "nt = 50\n",
    "xx = np.linspace(x0, xf, N) \n",
    "\n",
    "t, unnt = nm.evolv_adv_burgers(xx, u(xx), nt, a=a)\n",
    "\n",
    "fig, axes = plt.subplots(nrows=1, ncols=1, figsize=(7, 3))\n",
    "anim = FuncAnimation(fig, animate, interval=50, frames=nt, init_func=init)\n",
    "plt.close(); HTML(anim.to_jshtml())"
   ]
  },
  {
   "attachments": {},
   "cell_type": "markdown",
   "metadata": {},
   "source": [
    "<span style=\"color:#78AE7E\">\n",
    "\n",
    "For 1024 points, the amplitude also increases from the get-go, but much slower than for 128 points. It isn't until around $t = 0.15$ that the solution suddenly blows up, and ends up producing larger errors than for 128 points. Thus the solution remains stable longer when we increase the number of points.\n",
    "\n",
    "<span>"
   ]
  },
  {
   "attachments": {},
   "cell_type": "markdown",
   "metadata": {},
   "source": [
    "<span style=\"color:green\"> JMS. </span>.\n",
    "\n",
    "<span style=\"color:blue\"> Great job!!!Note that also the error reachaes much larger error after 0.15 than with lower resolution.</span>."
   ]
  },
  {
   "attachments": {},
   "cell_type": "markdown",
   "metadata": {},
   "source": [
    "\n",
    "\n",
    "2. Still for $a = 1$, use for the spatial differentiation backward finite differencing, i.e.:"
   ]
  },
  {
   "cell_type": "markdown",
   "metadata": {},
   "source": [
    "$$\\left(\\frac{\\partial u}{\\partial x}\\right)_{x=x_i} \\rightarrow \\frac{u_i-u_{i-1}}{\\Delta x}  \\tag{1}$$"
   ]
  },
  {
   "cell_type": "markdown",
   "metadata": {},
   "source": [
    "Fill in the `nm_lib` function `deriv_upw`, and use the `lambda` function `ddx` and select the proper limits for `bnd_limits`. "
   ]
  },
  {
   "cell_type": "code",
   "execution_count": null,
   "metadata": {},
   "outputs": [],
   "source": [
    "nt = 128\n",
    "N = 128\n",
    "\n",
    "xx = np.linspace(x0, xf, N)\n",
    "t, unnt = nm.evolv_adv_burgers(xx, u(xx), nt, a, ddx=nm.deriv_upw, bnd_limits=[1, 0])\n",
    "\n",
    "fig, axes = plt.subplots(nrows=1, ncols=1, figsize=(7, 3))\n",
    "anim = FuncAnimation(fig, animate_lim, interval=20, frames=nt, init_func=init)\n",
    "plt.close(); HTML(anim.to_jshtml())"
   ]
  },
  {
   "cell_type": "markdown",
   "metadata": {},
   "source": [
    "__taking care of also changing the implementation of the boundary condition.__ Does the unstable character of the code change?"
   ]
  },
  {
   "attachments": {},
   "cell_type": "markdown",
   "metadata": {},
   "source": [
    "<span style=\"color:#78AE7E\">\n",
    "\n",
    "Using the upwind scheme when $a = 1$ gives a stable solution, similarly to how the downwind scheme is stable for $a = -1$. As long as we use a differentiation scheme that differentiates in the same direction as the wave travels, the solution will be stable and won't blow up. However, the solution tends to diffuse with time, depending on the amount of intervals $N$. \n",
    "\n",
    "<span>"
   ]
  },
  {
   "cell_type": "markdown",
   "metadata": {},
   "source": [
    "## 2 – Centered differences"
   ]
  },
  {
   "cell_type": "markdown",
   "metadata": {},
   "source": [
    "Use now for the spatial derivation _centered finite differences_, i.e.:"
   ]
  },
  {
   "cell_type": "markdown",
   "metadata": {},
   "source": [
    "$$\\left(\\frac{\\partial u}{\\partial x}\\right)_{x=x_i} \\rightarrow \\frac{u_{i+1}-u_{i-1}}{2\\Delta x}   \\tag{2}$$"
   ]
  },
  {
   "cell_type": "markdown",
   "metadata": {},
   "source": [
    "(and see the note on boundary conditions below). Fill in `nm_lib` the function `deriv_cent`, and like in the previous case, use the `lambda` function `ddx` and select the proper limits for `bnd_limits`. Use `cfl_cut=0.3`. Is any instability apparent in this case? Does the situation change when you change the sign of the constant $a$?\n",
    "\n",
    "Note: In this case, the periodicity boundary condition can be implemented as follows: define $xx$ so that the endpoint $x = x_0$ of the domain coincides with $xx[1]$ (i.e., the second component of the array) and the endpoint $x = x_f$ coincides with the last element in the array [i.e., $xx[nump-1]$]. For the boundary condition, you can do the following: assume you are calling $uun$ the array at time $t + \\Delta t$. Then the boundary condition is imposed by specifying $uun[0] = uun[nump-2]$ and $uun[nump-1] = uun[1]$."
   ]
  },
  {
   "cell_type": "code",
   "execution_count": null,
   "metadata": {},
   "outputs": [],
   "source": [
    "nt = 200\n",
    "N = 128\n",
    "xx = np.linspace(x0, xf, N)\n",
    "\n",
    "t, unnt = nm.evolv_adv_burgers(xx, u(xx), nt, a, ddx=nm.deriv_cent, bnd_limits=[1, 1], clf_cut=0.3, bnd_type='wrap')\n",
    "fig, axes = plt.subplots(1, 1, figsize=(7, 3))\n",
    "anim = FuncAnimation(fig, animate, interval=20, frames=nt, init_func=init)\n",
    "plt.close()\n",
    "HTML(anim.to_jshtml())\n"
   ]
  },
  {
   "attachments": {},
   "cell_type": "markdown",
   "metadata": {},
   "source": [
    "> "
   ]
  },
  {
   "cell_type": "code",
   "execution_count": null,
   "metadata": {},
   "outputs": [],
   "source": [
    "nt = 200\n",
    "N = 128\n",
    "xx = np.linspace(x0, xf, N)\n",
    "a_negative = -1\n",
    "\n",
    "t, unnt = nm.evolv_adv_burgers(xx, u(xx), nt, a_negative, ddx=nm.deriv_cent, bnd_limits=[1, 1], clf_cut=0.3)\n",
    "fig, axes = plt.subplots(1, 1, figsize=(7, 3))\n",
    "anim = FuncAnimation(fig, animate, interval=20, frames=nt, init_func=init)\n",
    "plt.close()\n",
    "HTML(anim.to_jshtml())"
   ]
  },
  {
   "attachments": {},
   "cell_type": "markdown",
   "metadata": {},
   "source": [
    "<span style=\"color:#78AE7E\">\n",
    "\n",
    "We get the same unstable result when the sign of $a$ is changed. This is because the solution uses both the previous and the next value to calculate the current vaue. Thus the solution has no direction, and will not be more or less unstable for a positive or negative $a$. \n",
    "\n",
    "<span>"
   ]
  },
  {
   "attachments": {},
   "cell_type": "markdown",
   "metadata": {},
   "source": [
    "<span style=\"color:green\"> JMS. </span>.\n",
    "\n",
    "<span style=\"color:blue\"> Good. So this method is basically always unstable as it is.</span>."
   ]
  },
  {
   "cell_type": "markdown",
   "metadata": {},
   "source": [
    "## 3 – The stability of the non-centered finite-differences schemes"
   ]
  },
  {
   "cell_type": "markdown",
   "metadata": {},
   "source": [
    "In the previous exercises, we saw that when $a > 0$, a _backward-oriented_ finite-difference scheme yields stability. However, a crucial component in the problem was to give a specific value for $\\Delta t$, namely  $t = 0.98 x/|a|$. Would it have been wise to choose a larger or smaller $\\Delta t$? Let us check that $\\Delta t$ cannot be chosen arbitrarily large: run the program, but now writing"
   ]
  },
  {
   "cell_type": "markdown",
   "metadata": {},
   "source": [
    "1. $\\Delta t = 0.5 \\frac{\\Delta x}{a}$;\n",
    "2. $\\Delta t = 0.99 \\frac{\\Delta x}{a}$;\n",
    "3. $\\Delta t = 1.01 \\frac{\\Delta x}{a}$;\n",
    "4. $\\Delta t = 2 \\frac{\\Delta x}{a}$;"
   ]
  },
  {
   "cell_type": "markdown",
   "metadata": {},
   "source": [
    "and check if those values maintain the good stability properties of the code. For example, does there seem to be a threshold in $\\Delta t$ for the instability? Note that you need to define `cfl_cut` to 0.5, 0.99, 1.01, and 2.0."
   ]
  },
  {
   "cell_type": "code",
   "execution_count": null,
   "metadata": {},
   "outputs": [],
   "source": [
    "nt = 250\n",
    "N = 128\n",
    "a = 1\n",
    "xx = np.linspace(x0, xf, N)\n",
    "\n",
    "cfl_cut = 0.5\n",
    "\n",
    "t, unnt = nm.evolv_adv_burgers(xx, u(xx), nt, a, cfl_cut=cfl_cut, ddx=nm.deriv_upw, bnd_limits=[1, 1])\n",
    "fig, axes = plt.subplots(nrows=1, ncols=1, figsize=(7, 3))\n",
    "anim = FuncAnimation(fig, animate_lim, interval=10, frames=nt, init_func=init)\n",
    "plt.close()\n",
    "HTML(anim.to_jshtml())"
   ]
  },
  {
   "attachments": {},
   "cell_type": "markdown",
   "metadata": {},
   "source": [
    "<span style=\"color:#78AE7E\">\n",
    "\n",
    "This solution, where `cfl_cut = 0.5` is stable, but diffuses very quickly.\n",
    "\n",
    "<span>"
   ]
  },
  {
   "cell_type": "code",
   "execution_count": null,
   "metadata": {},
   "outputs": [],
   "source": [
    "cfl_cut = 0.99\n",
    "\n",
    "N = 128\n",
    "nt = 126\n",
    "xx = np.linspace(x0, xf, N)\n",
    "\n",
    "t, unnt = nm.evolv_adv_burgers(xx, u(xx), nt, a, cfl_cut=cfl_cut, ddx=nm.deriv_upw, bnd_limits=[1, 1])\n",
    "fig, axes = plt.subplots(nrows=1, ncols=1, figsize=(7, 3))\n",
    "anim = FuncAnimation(fig, animate_lim, interval=20, frames=nt, init_func=init)\n",
    "plt.close()\n",
    "HTML(anim.to_jshtml())"
   ]
  },
  {
   "attachments": {},
   "cell_type": "markdown",
   "metadata": {},
   "source": [
    "<span style=\"color:#78AE7E\">\n",
    "\n",
    "The solution for `cfl_cut = 0.99` is stable, since it diffuses. \n",
    "\n",
    "<span>"
   ]
  },
  {
   "cell_type": "code",
   "execution_count": null,
   "metadata": {},
   "outputs": [],
   "source": [
    "cfl_cut = 1.01\n",
    "\n",
    "N = 128\n",
    "nt = 125\n",
    "xx = np.linspace(x0, xf, N)\n",
    "\n",
    "t, unnt = nm.evolv_adv_burgers(xx, u(xx), nt, a, cfl_cut=cfl_cut, ddx=nm.deriv_upw, bnd_limits=[1, 1])\n",
    "fig, axes = plt.subplots(nrows=1, ncols=1, figsize=(7, 3))\n",
    "anim = FuncAnimation(fig, animate_lim, interval=20, frames=nt, init_func=init)\n",
    "plt.close()\n",
    "HTML(anim.to_jshtml())"
   ]
  },
  {
   "attachments": {},
   "cell_type": "markdown",
   "metadata": {},
   "source": [
    "<span style=\"color:#78AE7E\">\n",
    "\n",
    "The solution for `cfl_cut = 1.01` is *unstable*, since the amplitude increases slightly. \n",
    "\n",
    "<span>"
   ]
  },
  {
   "cell_type": "code",
   "execution_count": null,
   "metadata": {},
   "outputs": [],
   "source": [
    "cfl_cut = 2\n",
    "\n",
    "N = 128\n",
    "nt = 100\n",
    "xx = np.linspace(x0, xf, N)\n",
    "\n",
    "t, unnt = nm.evolv_adv_burgers(xx, u(xx), nt, a, cfl_cut=cfl_cut, ddx=nm.deriv_upw, bnd_limits=[1, 1])\n",
    "fig, axes = plt.subplots(nrows=1, ncols=1, figsize=(7, 3))\n",
    "anim = FuncAnimation(fig, animate, interval=50, frames=nt, init_func=init)\n",
    "plt.close()\n",
    "HTML(anim.to_jshtml())"
   ]
  },
  {
   "attachments": {},
   "cell_type": "markdown",
   "metadata": {},
   "source": [
    "<span style=\"color:#78AE7E\"> With `cfl_cut = 2.0` the solution is very unstable, and quickly blows up. <span>"
   ]
  },
  {
   "attachments": {},
   "cell_type": "markdown",
   "metadata": {},
   "source": [
    "<span style=\"color:green\"> JMS. </span>.\n",
    "\n",
    "<span style=\"color:blue\"> Good.</span>."
   ]
  },
  {
   "cell_type": "markdown",
   "metadata": {},
   "source": [
    "## 4- Optional (A). \n",
    "\n",
    "Consider now the following Burgers’ equation, i.e.,\n",
    "\n",
    "$$\\frac{\\partial u}{\\partial t} + u \\frac{\\partial u}{\\partial x} = 0   \\tag{3}$$\n",
    "\n",
    "can be seen as yet another case of the equation solved in the previous exercises of this\n",
    "series by writing:\n",
    "\n",
    "$$a(x,t,u) = u  \\tag{4}$$\n",
    "\n",
    "The importance of this equation in physics derives in part from the fact that it describes\n",
    "the motion of a non-accelerated fluid with an arbitrary velocity field at time $t = 0$ and\n",
    "because it contains the possibility of spontaneous formation of discontinuities. (\\*)\n",
    "\n",
    "We can simply solve equation (1) by modifying the program developed for the previous exercises but now writing $a(x_i, t^n) = u^n_i$. Carry out that modification, and run the program in the domain $x \\in (x_0, x_f)$ with $x_0 = −1.4$, $x_f = 2.0$ with the initial condition:\n",
    "\n",
    "$$u(x,t=0) = A\\left[\\tanh\\left(\\frac{x+x_c}{W}\\right)-\\tanh\\left(\\frac{x-x_c}{W}\\right) \\right] + B \\tag{5}$$\n",
    "\n",
    "whereby $A = 1.0$, $x_c = 0.70$, $W = 0.1$, $B = 0.3$. Let the solution evolve until time $t_f = 100$. Explain in physical (or mathematical) terms the solution you get. Change to $A = −0.02$ and explain the result. For this exercise, fill in `nm_lib` functions `evolv_uadv_burgers` and `step_uadv_burgers`. "
   ]
  },
  {
   "cell_type": "markdown",
   "metadata": {},
   "source": [
    "### Comments:\n",
    "\n",
    "In the numerical solution, we see the initial condition patently evolving into something that looks like a discontinuity. We understand that this discontinuity is formed because the characteristic curves $dx_p/dt = a(x, t, u) = u$ are more inclined (i.e., faster) in a spacetime diagram when starting at elements with larger $u$: since the solution is constant along those curves, the faster elements, therefore, catch those in front of them which have lower $u$ (as is the case in the solution you have found numerically here) – so the solution must steepen when that happens.\n",
    "\n",
    "Mathematically and physically, we should not be too surprised: we know that, for instance, in gas dynamics, weird nonlinear phenomena take place, some of which (the shocks) have to do with the formation of discontinuities or sharp transitions. Numerically, though, we ought to be rather surprised for various reasons:\n",
    "    \n",
    "a. the numerical calculation of a very large value of the derivative (as is surely the case across the big jump forming in our calculation) cannot be very accurate. It might even happen, we think, that the program crashed because of _NaNs_ or exceptions, etc, occurring in the calculation. But, in fact, our program happily calculates away ... seemingly forever.\n",
    "\n",
    "b. when a discontinuity forms, the exact mathematical solution, strictly speaking, cannot be calculated in a simple way anymore: when there is a discontinuity, one must take into account what is called the jump relations, also called internal boundary conditions, across the discontinuity: they give the mutual relation of the variables on either side of the discontinuity. A solution obtained in this way is called a __weak solution__ in mathematics.\n",
    "\n",
    "c. we finally ask ourselves what the mathematically-exact weak solution would be in this case and whether our simple numerical scheme provides a solution near the exact one despite the obvious difficulty of handling large jumps across the near-discontinuity.\n",
    "\n",
    "We have to leave these as open questions for discussion at a later point. \n",
    "\n",
    "As a final comment, consider the consequences of the fact that the acceleration in gas dynamics contains a term of the general form $u$ $du/dx$ .... Much of the beautiful physics occurring in the universe is due to non-linearities like this one."
   ]
  },
  {
   "cell_type": "markdown",
   "metadata": {},
   "source": [
    "## 4- Optional (B) \n",
    "\n",
    "For this exercise, do first [ex_4a](https://github.com/AST-Course/AST5110/blob/main/ex_4a.ipynb). \n",
    "Consider the same setup as the previous exercise. But now, solve it using the upwind method: \n",
    "\n",
    "$$u^{n+1}_j = u^{n}_j - \\frac{\\Delta t}{\\Delta x} u^{n}_j(u^{n}_j- u^{n}_{j+1})$$\n",
    "\n",
    "And using the Lax method implemented in [ex_4a](https://github.com/AST-Course/AST5110/blob/main/ex_4a.ipynb). What do you see? Argue why you think the solution is not correct. __Hint__ In the first exercise, we disccused about flux conservation."
   ]
  },
  {
   "attachments": {},
   "cell_type": "markdown",
   "metadata": {},
   "source": [
    "<span style=\"color:green\"> JMS. </span>.\n",
    "\n",
    "<span style=\"color:orange\"> I highly recommend to do this one.</span>."
   ]
  },
  {
   "cell_type": "markdown",
   "metadata": {},
   "source": [
    "### Comments:\n",
    "    \n",
    "See [Stagger mesh](https://github.com/AST-Course/AST5110/wiki/Staggered-mesh) documentation on how a staggered mesh allows keeping the conservation. "
   ]
  }
 ],
 "metadata": {
  "kernelspec": {
   "display_name": "ast_env",
   "language": "python",
   "name": "python3"
  },
  "language_info": {
   "codemirror_mode": {
    "name": "ipython",
    "version": 3
   },
   "file_extension": ".py",
   "mimetype": "text/x-python",
   "name": "python",
   "nbconvert_exporter": "python",
   "pygments_lexer": "ipython3",
   "version": "3.10.8"
  },
  "vscode": {
   "interpreter": {
    "hash": "76df6c33c70a89a28bc8d5fd16793c465ffdf984c5d47a1c1ea48d6375b2fc5e"
   }
  }
 },
 "nbformat": 4,
 "nbformat_minor": 4
}
