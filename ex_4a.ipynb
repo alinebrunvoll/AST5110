{
 "cells": [
  {
   "cell_type": "markdown",
   "metadata": {},
   "source": [
    "# Stabilities and accuracy in time. "
   ]
  },
  {
   "attachments": {},
   "cell_type": "markdown",
   "metadata": {},
   "source": [
    "Lets consider same setup as in [ex_3a](https://github.com/AST-Course/AST5110/blob/main/ex_3a.ipynb) Burgers’ equation, i.e.,\n",
    "\n",
    "$$\\frac{\\partial u}{\\partial t} + u \\frac{\\partial u}{\\partial x} = 0   \\tag{1}$$ \n",
    "\n",
    "for the domain $x \\in (x_0, x_f)$ with $x_0 = −1.4$, $x_f = 2.0$ with initial condition:\n",
    "\n",
    "$$u(x,t=0) = A\\left[\\tanh\\left(\\frac{x+x_c}{W}\\right)-\\tanh\\left(\\frac{x-x_c}{W}\\right)\\right]   \\tag{2}$$\n",
    "\n",
    "whereby $A = 0.02$ , $x_c = 0.70$, $W = 0.1$. Let the solution evolve until time $t_f = 100$. Explain in physical (or mathematical) terms the solution you get."
   ]
  },
  {
   "cell_type": "code",
   "execution_count": null,
   "metadata": {},
   "outputs": [],
   "source": [
    "import numpy as np\n",
    "import matplotlib.pyplot as plt\n",
    "plt.style.use('seaborn-v0_8-whitegrid')\n",
    "import matplotlib as mpl\n",
    "mpl.rc('lines', linewidth=2)\n",
    "\n",
    "from nm_lib import nm_lib as nm\n",
    "\n",
    "def u_0(x: np.ndarray, t: float = 0) -> np.ndarray:\n",
    "    r\"\"\"\n",
    "    Initial condition for the advection equation.\n",
    "\n",
    "    Parameters\n",
    "    ----------\n",
    "    x : `array`\n",
    "        the x-axis.\n",
    "    t : `float`\n",
    "        the time.\n",
    "    \n",
    "    Returns\n",
    "    -------\n",
    "    `array`\n",
    "        the initial condition.\n",
    "    \"\"\"\n",
    "    return A * ( np.tanh((x + x_c) / W) - np.tanh((x - x_c) / W) )"
   ]
  },
  {
   "cell_type": "code",
   "execution_count": null,
   "metadata": {},
   "outputs": [],
   "source": [
    "# Setup for animations\n",
    "\n",
    "from matplotlib import animation\n",
    "from matplotlib.animation import FuncAnimation\n",
    "from IPython.display import HTML\n",
    "\n",
    "def init(): \n",
    "    \"\"\"Initialize animation\"\"\"\n",
    "    axes.plot(xx,unnt[:,0])\n",
    "\n",
    "def animate(i):\n",
    "    \"\"\"Animate the solution with dynamic axis limits\"\"\"\n",
    "    axes.clear()\n",
    "    axes.plot(xx,unnt[:,i])\n",
    "    axes.set_title('t=%.2f'%t[i])"
   ]
  },
  {
   "cell_type": "code",
   "execution_count": null,
   "metadata": {},
   "outputs": [],
   "source": [
    "A = 0.02\n",
    "x_c = 0.7 \n",
    "W = 0.1\n",
    "\n",
    "x0 = -1.4\n",
    "xf = 2.0\n",
    "\n",
    "tf = 100"
   ]
  },
  {
   "cell_type": "code",
   "execution_count": null,
   "metadata": {},
   "outputs": [],
   "source": [
    "nx = 128\n",
    "nt = 200\n",
    "\n",
    "xx = np.linspace(x0, xf, nx)\n",
    "tt = np.linspace(0, tf, nt)\n",
    "\n",
    "plt.plot(xx, u_0(xx))"
   ]
  },
  {
   "attachments": {},
   "cell_type": "markdown",
   "metadata": {},
   "source": [
    "However, let's now implement a new time-step method. \n",
    "\n",
    "Add the following method to your library and run the previous simulation. \n",
    "\n",
    "$$u^{n+1}_j = \\frac{1}{2}(u^n_{j+1} + u^n_{j-1}) - \\frac{v \\Delta t}{2 \\Delta x}(u^n_{j+1} - u^n_{j-1})$$\n",
    "\n",
    "Apply von Neumann stability analysis to the expression above. The stability condition $|\\xi(k)|^2 \\leq 1$ leads to the famous Courant-Friedrichs-Lewy (CFL) stability. "
   ]
  },
  {
   "attachments": {},
   "cell_type": "markdown",
   "metadata": {},
   "source": [
    "> Insert Von Neumann stability analysis\n",
    ">\n",
    "> Epsilon etc"
   ]
  },
  {
   "attachments": {},
   "cell_type": "markdown",
   "metadata": {},
   "source": [
    "Add this to your library and solve the previous simulation imposing the CFL condition. For this exercise, fill in `nm_lib` the function `evolv_Lax_uadv_burgers`. "
   ]
  },
  {
   "cell_type": "code",
   "execution_count": null,
   "metadata": {},
   "outputs": [],
   "source": [
    "# Define the domain \n",
    "x0 = -2.6\n",
    "xf = 2.6\n",
    "\n",
    "nx = 128\n",
    "nt = 50\n",
    "xx = np.linspace(x0, xf, nx) \n",
    "\n",
    "t, unnt = nm.evolv_Lax_uadv_burgers(xx, u_0(xx), nt, ddx=nm.deriv_dnw, bnd_limits=[0, 1])\n",
    "\n",
    "fig, axes = plt.subplots(nrows=1, ncols=1, figsize=(7, 3))\n",
    "anim = FuncAnimation(fig, animate, interval=20, frames=nt, init_func=init)\n",
    "plt.close(); HTML(anim.to_jshtml())"
   ]
  },
  {
   "cell_type": "markdown",
   "metadata": {},
   "source": [
    "## 1- Diffusive. \n",
    "\n",
    "Redo the exercise [ex_2b](https://github.com/AST-Course/AST5110/blob/main/ex_2b.ipynb) and compare the two methods, i.e., one from \n",
    "[ex_2b](https://github.com/AST-Course/AST5110/blob/main/ex_2b.ipynb) and the Lax-Method. \n",
    "\n",
    "Which one is more diffusive? Why? Rewrite Lax-method, so the right-hand side is as follows: \n",
    "\n",
    "$$\\frac{u^{n+1}-u^{n}}{\\Delta t} = ...$$\n",
    "\n",
    "What is the reminder term look like? Is the order of convergence the same for the two methods? "
   ]
  },
  {
   "attachments": {},
   "cell_type": "markdown",
   "metadata": {},
   "source": [
    "> Insert math here too. "
   ]
  },
  {
   "cell_type": "code",
   "execution_count": null,
   "metadata": {},
   "outputs": [],
   "source": [
    "init_2 = lambda: axes.plot(xx, unnt[:, 0]); axes.plot(xx, unnt[:, 0])\n",
    "\n",
    "def animate_2(i):\n",
    "    \"\"\"Animate the solution with dynamic axis limits\"\"\"\n",
    "    axes.clear()\n",
    "    axes.plot(xx, unnt[:, i], label='Lax')\n",
    "    axes.plot(xx, unnt_2[:, i], label='Upwind', ls='--')\n",
    "    axes.legend()\n",
    "    axes.set_title('t=%.2f'%t[i])\n",
    "\n",
    "t, unnt = nm.evolv_Lax_uadv_burgers(xx, u_0(xx), nt, cfl_cut=0.98, ddx=nm.deriv_upw, bnd_limits=[1, 0])\n",
    "t_2, unnt_2 = nm.evolv_uadv_burgers(xx, u_0(xx), nt, cfl_cut=0.98, a=1, ddx=nm.deriv_upw, bnd_limits=[1, 0])\n",
    "\n",
    "fig, axes = plt.subplots(nrows=1, ncols=1, figsize=(7, 3))\n",
    "anim = FuncAnimation(fig, animate_2, interval=50, frames=nt, init_func=init_2)\n",
    "plt.close()\n",
    "HTML(anim.to_jshtml())"
   ]
  },
  {
   "attachments": {},
   "cell_type": "markdown",
   "metadata": {},
   "source": [
    "> We see that LAX is better. Pga the viscosity term."
   ]
  },
  {
   "cell_type": "markdown",
   "metadata": {},
   "source": [
    "---\n",
    "\n",
    "(\\*) Equation (1) is, in fact, a shortened version of the full Burgers’ equation, which contains a viscosity term on the right-hand side, as follows:\n",
    "$$\\frac{\\partial u}{\\partial t} + u \\frac{\\partial u}{\\partial x} = \\nu \\frac{\\partial^2 u}{\\partial x^2}.$$"
   ]
  }
 ],
 "metadata": {
  "kernelspec": {
   "display_name": "ast_env",
   "language": "python",
   "name": "python3"
  },
  "language_info": {
   "codemirror_mode": {
    "name": "ipython",
    "version": 3
   },
   "file_extension": ".py",
   "mimetype": "text/x-python",
   "name": "python",
   "nbconvert_exporter": "python",
   "pygments_lexer": "ipython3",
   "version": "3.10.8"
  },
  "vscode": {
   "interpreter": {
    "hash": "76df6c33c70a89a28bc8d5fd16793c465ffdf984c5d47a1c1ea48d6375b2fc5e"
   }
  }
 },
 "nbformat": 4,
 "nbformat_minor": 4
}
