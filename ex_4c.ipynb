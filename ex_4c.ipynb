{
 "cells": [
  {
   "cell_type": "markdown",
   "metadata": {},
   "source": [
    "# Riemann scheme. "
   ]
  },
  {
   "attachments": {},
   "cell_type": "markdown",
   "metadata": {},
   "source": [
    "<span style=\"color:#78AE7E\">\n",
    "\n",
    "\n",
    "\n",
    "<span>"
   ]
  },
  {
   "cell_type": "markdown",
   "metadata": {},
   "source": [
    "Lets consider same setup as in [ex_3a](https://github.com/AST-Course/AST5110/blob/main/ex_3a.ipynb) Burgers’ equation, i.e.,\n",
    "\n",
    "$$\\frac{\\partial u}{\\partial t} + u \\frac{\\partial u}{\\partial x} = 0   \\tag{1}$$ \n",
    "\n",
    "for the domain $x \\in (x_0, x_f)$ with $x_0 = −1.4$, $x_f = 2.0$ with initial condition:\n",
    "\n",
    "$$u(x,t=0) = A\\left[\\tanh\\left(\\frac{x+x_c}{W}\\right)-\\tanh\\left(\\frac{x-x_c}{W}\\right)\\right]   \\tag{2}$$\n",
    "\n",
    "whereby $A = 0.02$ , $x_c = 0.70$, $W = 0.1$. Let the solution evolve until time $t_f = 100$. However, let's now implement a new time-step method. Find the conservative form of the equation and implement a Rieman solver [wiki:Rieman Solvers](https://github.com/AST-Course/AST5110/wiki/Riemann-solvers). \n",
    "\n",
    "Add this to your library and solve the previous simulation imposing the CFL condition. For this exercise, fill in `nm_lib` the function `evolv_Rie_uadv_burgers`. "
   ]
  },
  {
   "cell_type": "code",
   "execution_count": null,
   "metadata": {},
   "outputs": [],
   "source": [
    "import numpy as np\n",
    "import matplotlib.pyplot as plt\n",
    "plt.style.use('seaborn-v0_8-whitegrid')\n",
    "import matplotlib as mpl\n",
    "mpl.rc('lines', linewidth=2)\n",
    "\n",
    "from nm_lib import nm_lib as nm\n",
    "\n",
    "def u_0(x: np.ndarray, t: float = 0) -> np.ndarray:\n",
    "    r\"\"\"\n",
    "    Initial condition for the advection equation.\n",
    "\n",
    "    Parameters\n",
    "    ----------\n",
    "    x : `array`\n",
    "        the x-axis.\n",
    "    t : `float`\n",
    "        the time.\n",
    "    \n",
    "    Returns\n",
    "    -------\n",
    "    `array`\n",
    "        the initial condition.\n",
    "    \"\"\"\n",
    "    return A * ( np.tanh((x + x_c) / W) - np.tanh((x - x_c) / W) )"
   ]
  },
  {
   "cell_type": "code",
   "execution_count": null,
   "metadata": {},
   "outputs": [],
   "source": [
    "# Setup for animations\n",
    "\n",
    "from matplotlib import animation\n",
    "from matplotlib.animation import FuncAnimation\n",
    "from IPython.display import HTML"
   ]
  },
  {
   "cell_type": "code",
   "execution_count": null,
   "metadata": {},
   "outputs": [],
   "source": [
    "A = 0.02 \n",
    "W = 0.1\n",
    "x_c = 0.7\n",
    "\n",
    "tf = 100"
   ]
  },
  {
   "attachments": {},
   "cell_type": "markdown",
   "metadata": {},
   "source": [
    "#### 1 step\n",
    "\n",
    "Compute left and right of $u$, i.e., $u_L$ and $u_R$. Note that $u_R = u_{i+1}$ and $u_L = u_i$\n",
    "\n",
    "#### 2 step\n",
    "Rewrite the eq 1 in a conservative form to get the Flux. Compute from the left and right variable ($u_L$ and $u_R$) the corresponding flux, i.e., $F_L$ and $F_R$\n",
    "\n",
    "#### 3 step\n",
    "Compute the propagating speed. This will be the derivatie of the flux with respect to variable $u$ in absolute values and select the largest between the left and right shells ($v_a$).\n",
    "\n",
    "#### 4 step\n",
    "Compute the interface fluxes (Rusanov)\n",
    "\n",
    "$F^*_{i+1/2}=\\frac{F_R+F_L}{2} - \\frac{v_a}{2} (U_R -U_L)$\n",
    "\n",
    "Note that $F^*_{i+1/2}$ is half grid shifted\n",
    "\n",
    "#### 5 step\n",
    "Advance in time $u^{n+1}=u^n - dt\\times (F^*_{i+1/2}-F^*_{i-1/2})$. \n",
    "\n",
    "What is dt taking into account the phase speed ($v_a$)? \n"
   ]
  },
  {
   "cell_type": "code",
   "execution_count": null,
   "metadata": {},
   "outputs": [],
   "source": [
    "# Define the domain \n",
    "x0 = -1.4\n",
    "xf = 2.0\n",
    "\n",
    "nx = 128\n",
    "nt = 200\n",
    "xx = np.linspace(x0, xf, nx) \n",
    "\n",
    "t, unnt_Lax = nm.evolv_Lax_uadv_burgers(xx, u_0(xx), nt, cfl_cut=0.98, bnd_limits=[1, 0])\n",
    "t, unnt_Rie = nm.evolv_Rie_uadv_burgers(xx, u_0(xx), nt, bnd_limits=[1, 0])\n",
    "\n",
    "# Explain the boundary limits\n",
    "\n",
    "def init(): \n",
    "    \"\"\"Initialize animation\"\"\"\n",
    "    axes.plot(xx,unnt_Rie[:,0], label='Rie')\n",
    "    axes.plot(xx,unnt_Lax[:,0], label='Lax', ls='--')\n",
    "    axes.legend(loc='upper right')\n",
    "\n",
    "def animate(i):\n",
    "    \"\"\"Animate the solution with dynamic axis limits\"\"\"\n",
    "    axes.clear()\n",
    "    axes.plot(xx,unnt_Rie[:,i], label='Rie')\n",
    "    axes.plot(xx,unnt_Lax[:,i], label='Lax', ls='--')\n",
    "    axes.set_title('t=%.2f'%t[i])\n",
    "    axes.legend(loc='upper right')\n",
    "    axes.set_ylim(-0.005, 0.045)\n",
    "\n",
    "fig, axes = plt.subplots(figsize=(7, 3))\n",
    "anim = FuncAnimation(fig, animate, interval=20, frames=nt, init_func=init)\n",
    "plt.close(); HTML(anim.to_jshtml())"
   ]
  },
  {
   "attachments": {},
   "cell_type": "markdown",
   "metadata": {},
   "source": [
    "Is this method less or more diffusive than Lax method? Where and when is better or worse than the Lax method? "
   ]
  },
  {
   "attachments": {},
   "cell_type": "markdown",
   "metadata": {},
   "source": [
    "<span style=\"color:#78AE7E\">\n",
    "\n",
    "We see from the animation above that the Riemann scheme is about equally as diffusive as the Lax method. However, the Riemann method more accurately represents the \"shock\" in the solution, as we can se from the straigh angles, whereas the Lax method stays more \"round\", even at the edge of the travelling shock. \n",
    "\n",
    "<span>"
   ]
  },
  {
   "attachments": {},
   "cell_type": "markdown",
   "metadata": {},
   "source": [
    "The different approximations of Rieman solvers uses different ways to estimate $F^*$ and phase velocity ($v_a$). Otherwise they do the same steps. "
   ]
  },
  {
   "attachments": {},
   "cell_type": "markdown",
   "metadata": {},
   "source": [
    "<span style=\"color:#78AE7E\">\n",
    "\n",
    "Disregard the cells below!\n",
    "\n",
    "<span>"
   ]
  },
  {
   "attachments": {},
   "cell_type": "markdown",
   "metadata": {},
   "source": [
    "---\n",
    "## TVD scheme. \n",
    "\n",
    "Combine the Lax method with the Rieman solver using a flux limiter scheme. For this, one needs to identify how large are the gradients. Lets define: \n",
    "\n",
    "$$r^{+}_i = \\frac{u_i-u_{i-1}}{u_{i+1}+u_i}$$\n",
    "\n",
    "What kind of properties do you see on $r^{+}_i$? e.g., what happens when $r\\ge0$? or $r\\le0$? \n",
    "\n",
    "now lets consider the following flux limiter: \n",
    "\n",
    "$$\\phi = max\\left(0,min\\left(\\theta r,\\frac{1+r}{2},\\theta \\right)\\right),\\, \\theta =[1,2]$$"
   ]
  },
  {
   "attachments": {},
   "cell_type": "markdown",
   "metadata": {},
   "source": [
    "Finally, combine the Lax from previous excersice with the Riemann solver using the flux limiter as follows: \n",
    "\n",
    "$$u^{n+1}_i = u^n_i + dt (f^n_{i+1/2}-f^n_{i-1/2})$$\n",
    "\n",
    "Where \n",
    "\n",
    "$$f^n_{i+1/2} = f^{Riemann}_{i+1/2} + \\phi^n_i (f^{L}_{i+1/2}-f^{Riemann}_{i+1/2})$$\n",
    "\n"
   ]
  },
  {
   "cell_type": "code",
   "execution_count": null,
   "metadata": {},
   "outputs": [],
   "source": [
    "# Define the domain \n",
    "x0 = -1.4\n",
    "xf = 2.0\n",
    "\n",
    "nx = 128\n",
    "nt = 200\n",
    "xx = np.linspace(x0, xf, nx) \n",
    "\n",
    "t, unnt = nm.evolve_Lax_Rie_uadv_burgers(xx, u_0(xx), nt, cfl_cut=0.98, ddx=nm.deriv_upw, bnd_limits=[1, 0])\n",
    "\n",
    "def init(): \n",
    "    \"\"\"Initialize animation\"\"\"\n",
    "    axes.plot(xx,unnt[:,0])\n",
    "    # axes.plot(xx,unnt_Lax[:,0], label='Lax', ls='--')\n",
    "    # axes.legend(loc='upper right')\n",
    "\n",
    "def animate(i):\n",
    "    \"\"\"Animate the solution with dynamic axis limits\"\"\"\n",
    "    axes.clear()\n",
    "    axes.plot(xx,unnt[:,i])\n",
    "    # axes.plot(xx,unnt_Lax[:,i], label='Lax', ls='--')\n",
    "    axes.set_title('t=%.2f'%t[i])\n",
    "    # axes.legend(loc='upper right')\n",
    "    axes.set_ylim(-0.005, 0.045)\n",
    "\n",
    "fig, axes = plt.subplots(figsize=(7, 3))\n",
    "anim = FuncAnimation(fig, animate, interval=20, frames=nt, init_func=init)\n",
    "plt.close(); HTML(anim.to_jshtml())"
   ]
  },
  {
   "cell_type": "markdown",
   "metadata": {},
   "source": [
    "When becomes purely Rieman solver? And Lax? Which others methods you can find depending on what is $r$ of $\\phi$. "
   ]
  },
  {
   "attachments": {},
   "cell_type": "markdown",
   "metadata": {},
   "source": [
    "What would be the corrective numerical flux in order to be a flux-limited?"
   ]
  }
 ],
 "metadata": {
  "kernelspec": {
   "display_name": "ast_env",
   "language": "python",
   "name": "python3"
  },
  "language_info": {
   "codemirror_mode": {
    "name": "ipython",
    "version": 3
   },
   "file_extension": ".py",
   "mimetype": "text/x-python",
   "name": "python",
   "nbconvert_exporter": "python",
   "pygments_lexer": "ipython3",
   "version": "3.10.8"
  },
  "vscode": {
   "interpreter": {
    "hash": "76df6c33c70a89a28bc8d5fd16793c465ffdf984c5d47a1c1ea48d6375b2fc5e"
   }
  }
 },
 "nbformat": 4,
 "nbformat_minor": 4
}
