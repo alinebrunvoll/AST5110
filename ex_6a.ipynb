{
 "cells": [
  {
   "cell_type": "markdown",
   "metadata": {},
   "source": [
    "# Operator splitting "
   ]
  },
  {
   "cell_type": "code",
   "execution_count": null,
   "metadata": {},
   "outputs": [],
   "source": [
    "import numpy as np\n",
    "import matplotlib.pyplot as plt\n",
    "plt.style.use('seaborn-v0_8-whitegrid')\n",
    "\n",
    "import matplotlib as mpl\n",
    "mpl.rc('lines', linewidth=2)\n",
    "\n",
    "from nm_lib import nm_lib as nm"
   ]
  },
  {
   "cell_type": "markdown",
   "metadata": {},
   "source": [
    "## 1- OS precision\n",
    "\n",
    "Solve the following Burgers' equation: \n",
    "\n",
    "$$\\frac{\\partial u}{\\partial t} = - a \\frac{\\partial u}{\\partial x} - b \\frac{\\partial u}{\\partial x}   \\tag{1}$$\n",
    "\n",
    "following exersize [2b](https://github.com/AST-Course/AST5110/blob/main/ex_2b.ipynb). where $x[x_0, x_f]$ with $x_0 = −2.6$, $x_f = 2.6$, $a=-0.7$ and $b=-0.3$, periodic boundary conditions and with initial condition:\n",
    "\n",
    "$$u(x,t=t_0) = \\cos^2 \\left(\\frac{6 \\pi x}{5} \\right) / \\cosh(5x^2)  \\tag{2}$$\n",
    "\n",
    "Solve the evolution for the following four different approaches: \n",
    "\n",
    "- 1 With additive OS.  \n",
    "\n",
    "- 2 With Lie-Trotter OS. \n",
    "\n",
    "- 3 With Strang OS.\n",
    "\n",
    "- 4 Without an operator splitting and single time-step method but add the to terms: \n",
    "\n",
    "$$\\frac{\\partial u}{\\partial t} = - (a+b) \\frac{\\partial u}{\\partial x}$$\n",
    "\n",
    "for $nump=256$ and 100 steps.\n",
    "\n",
    "_Suggestion_: use the Lax-method scheme for all cases with `deriv_cent`. Make sure the boundaries are properly selected.\n",
    "\n",
    "Fill in the function `osp_LL_Add`, `osp_LL_Lie`, and `osp_LL_Strang`.\n",
    "\n",
    "Start with $cfl\\_cut = 0.4$ and increase up to $0.9$.  \n",
    "\n",
    "Which OS schemes are stable? Which one is more diffusive? Why?"
   ]
  },
  {
   "cell_type": "code",
   "execution_count": null,
   "metadata": {},
   "outputs": [],
   "source": [
    "def u_0(x: np.ndarray, t: float = 0) -> np.ndarray:\n",
    "    r\"\"\"\n",
    "    Initial condition for the advection equation.\n",
    "\n",
    "    Parameters\n",
    "    ----------\n",
    "    x : `array`\n",
    "        the x-axis.\n",
    "    t : `float`\n",
    "        the time.\n",
    "    \n",
    "    Returns\n",
    "    -------\n",
    "    `array`\n",
    "        the initial condition.\n",
    "    \"\"\"\n",
    "    return np.cos(6*np.pi*x / 5)**2 / np.cosh(5*x**2)"
   ]
  },
  {
   "cell_type": "code",
   "execution_count": null,
   "metadata": {},
   "outputs": [],
   "source": [
    "x0 = -2.6\n",
    "xf = 2.6\n",
    "a = -0.7\n",
    "b = -0.3\n",
    "\n",
    "nump = 256 # number of grid points\n",
    "\n",
    "# xx = np.linspace(x0, xf, nump)\n",
    "\n",
    "xx = np.arange(nump) / (nump - 1.0) * (xf - x0) + x0"
   ]
  },
  {
   "cell_type": "code",
   "execution_count": null,
   "metadata": {},
   "outputs": [],
   "source": [
    "# Setup for animation\n",
    "from matplotlib import animation\n",
    "from matplotlib.animation import FuncAnimation\n",
    "from IPython.display import HTML\n",
    "\n",
    "def init(): \n",
    "    axes.plot(xx,unnt_Add[:,0], label='Add')\n",
    "    axes.plot(xx,unnt_Lie[:,0], label='Lie')\n",
    "    axes.plot(xx,unnt_LL_Strang[:,0], label='LL_Strang')\n",
    "    axes.plot(xx,unnt_ab[:,0], label='Lax (a+b)')\n",
    "    axes.legend(loc='upper right', frameon=True, framealpha=0.5)\n",
    "\n",
    "def animate(i):\n",
    "    axes.clear()\n",
    "    axes.plot(xx,unnt_Add[:,i], label='Add')\n",
    "    axes.plot(xx,unnt_Lie[:,i], label='Lie')\n",
    "    axes.plot(xx,unnt_LL_Strang[:,i], label='LL_Strang')\n",
    "    axes.plot(xx,unnt_ab[:,i], label='Lax (a+b)')\n",
    "    axes.set_title('t=%.2f'%t[i])\n",
    "    axes.legend(loc='upper right', frameon=True, framealpha=0.5)\n",
    "    axes.set_ylim(-0.05, 1.05)"
   ]
  },
  {
   "cell_type": "code",
   "execution_count": null,
   "metadata": {},
   "outputs": [],
   "source": [
    "nt = 100\n",
    "cfl_cut = 0.4\n",
    "\n",
    "t, unnt_Add = nm.ops_Lax_LL_Add(xx, u_0(xx), nt=nt, a=a, b=b, cfl_cut=cfl_cut, ddx=nm.deriv_cent, bnd_limits=[1, 1])\n",
    "t, unnt_Lie = nm.ops_Lax_LL_Lie(xx, u_0(xx), nt=nt, a=a, b=b, cfl_cut=cfl_cut, ddx=nm.deriv_cent, bnd_limits=[1, 1])\n",
    "t, unnt_LL_Strang = nm.ops_Lax_LL_Strang(xx, u_0(xx), nt=nt, a=a, b=b, cfl_cut=cfl_cut, ddx=nm.deriv_cent, bnd_limits=[1, 1])\n",
    "t, unnt_ab = nm.evolv_Lax_adv_burgers(xx, u_0(xx), nt=nt, a=a+b, cfl_cut=cfl_cut, ddx=nm.deriv_cent, bnd_limits=[1, 1])"
   ]
  },
  {
   "cell_type": "code",
   "execution_count": null,
   "metadata": {},
   "outputs": [],
   "source": [
    "fig, axes = plt.subplots(nrows=1, ncols=1, figsize=(7, 3))\n",
    "anim = FuncAnimation(fig, animate, interval=50, frames=nt, init_func=init)\n",
    "plt.close()\n",
    "HTML(anim.to_jshtml())"
   ]
  },
  {
   "attachments": {},
   "cell_type": "markdown",
   "metadata": {},
   "source": [
    "<span style=\"color:#78AE7E\">\n",
    "\n",
    "Above is a comparison of the four different methods over time, when `cfl_cut=0.4`. We see that the Add method is the first to blow up, beginning at around $t=0.25$. The Lie method also blows up eventually, but this doesn't start until about $t=0.76$. Both the Lie and Add methods seem to diffuse at an equal pace before the Add method blows up, though the Lie method diffuses a little bit faster. The Lie and Add methods are both 1st-order methods, which can explain why they are both unstable.\n",
    "\n",
    "Both the Strang method and the Lax method with $a+b$ added do not blow up during the course of the simulation, but we see that the Strang method diffuses much quicker than the Lax method. The Strang method and the Lax method are both 2nd-order methods, and thus it makes sense that both of them are stable.\n",
    "\n",
    "The four solutions move across the simulated span at different paces, due to the difference in the coefficients $a$ and $b$. The Lie method moves the fastest, followed by the Add method, then the Strang method, and finally the Lax method.\n",
    "\n",
    "<span>"
   ]
  },
  {
   "cell_type": "code",
   "execution_count": null,
   "metadata": {},
   "outputs": [],
   "source": [
    "nt = 100\n",
    "cfl_cut = 0.9\n",
    "\n",
    "t, unnt_Add = nm.ops_Lax_LL_Add(xx, u_0(xx), nt=nt, a=a, b=b, cfl_cut=cfl_cut, ddx=nm.deriv_cent, bnd_limits=[1, 1])\n",
    "t, unnt_Lie = nm.ops_Lax_LL_Lie(xx, u_0(xx), nt=nt, a=a, b=b, cfl_cut=cfl_cut, ddx=nm.deriv_cent, bnd_limits=[1, 1])\n",
    "t, unnt_LL_Strang = nm.ops_Lax_LL_Strang(xx, u_0(xx), nt=nt, a=a, b=b, cfl_cut=cfl_cut, ddx=nm.deriv_cent, bnd_limits=[1, 1])\n",
    "t, unnt_ab = nm.evolv_Lax_adv_burgers(xx, u_0(xx), nt=nt, a=a+b, cfl_cut=cfl_cut, ddx=nm.deriv_cent, bnd_limits=[1, 1])"
   ]
  },
  {
   "cell_type": "code",
   "execution_count": null,
   "metadata": {},
   "outputs": [],
   "source": [
    "fig, axes = plt.subplots(nrows=1, ncols=1, figsize=(7, 3))\n",
    "anim = FuncAnimation(fig, animate, interval=50, frames=nt, init_func=init)\n",
    "plt.close()\n",
    "HTML(anim.to_jshtml())"
   ]
  },
  {
   "attachments": {},
   "cell_type": "markdown",
   "metadata": {},
   "source": [
    "<span style=\"color:#78AE7E\">\n",
    "\n",
    "In the case where `cfl_cut=0.9`, we see that the amplitudes of the Lie and Add methods begin to increase immediately, showing that they are unstable solutions in this case. The Lie method blows up immediately, while the Add method begins to blow up around $t=0.55$. \n",
    "\n",
    "As with `cfl_cut=0.4`, the Strang and Lax methods are stable solutions, and they behave in the same way. \n",
    "\n",
    "<span>"
   ]
  },
  {
   "cell_type": "markdown",
   "metadata": {},
   "source": [
    "## 2- When does it not work? \n",
    "\n",
    "Use OS-Strang from the previous exercise and try to apply a predictor-corrector explicit method. \n",
    "To facilitate this exercise, `nm_lib` already includes the predictor-corrector Hyman method, which is included Bifrost (`Hyman`). Fill in the function `osp_Lax_LH_Strang`. Use the same setup as the previous exercise but with $nump=512$, $500$ steps, and $cfl\\_cut=0.8$. \n",
    "\n",
    "What do you notice? \n",
    "\n",
    "__Optional__: Apply the Hyman predictor-corrector explicit method to the Burgers equation and check if the following is true: \n",
    "\n",
    "$$u^{n+1} = F\\, u^{n}\\Delta t \\approx G\\, u^{n}\\Delta t+H\\, u^{n}\\Delta t$$"
   ]
  },
  {
   "cell_type": "code",
   "execution_count": null,
   "metadata": {},
   "outputs": [],
   "source": [
    "x0 = -2.6\n",
    "xf = 2.6\n",
    "a = -0.7\n",
    "b = -0.3\n",
    "\n",
    "nump = 512 # number of grid points\n",
    "nt = 500 \n",
    "# nt = 10\n",
    "cfl_cut = 0.8\n",
    "\n",
    "xx = np.linspace(x0, xf, nump)\n",
    "\n",
    "t, unnt = nm.ops_Lax_LH_Strang(xx, u_0(xx), nt=nt, a=a, b=b, cfl_cut=cfl_cut, ddx=nm.deriv_cent, bnd_limits=[1, 1])\n",
    "t, unnt_LL = nm.ops_Lax_LL_Strang(xx, u_0(xx), nt=nt, a=a, b=b, cfl_cut=cfl_cut, ddx=nm.deriv_cent, bnd_limits=[1, 1])"
   ]
  },
  {
   "cell_type": "code",
   "execution_count": null,
   "metadata": {},
   "outputs": [],
   "source": [
    "def init(): \n",
    "    axes.plot(xx,unnt[:,0], label='LH')\n",
    "    axes.plot(xx,unnt_LL[:,0], label='LL')\n",
    "    axes.legend(loc='upper right', frameon=True, framealpha=0.5)\n",
    "\n",
    "def animate(i):\n",
    "    axes.clear()\n",
    "    axes.plot(unnt[:, 320][int(len(unnt[0])/2)], 'r+')\n",
    "    # axes.plot(0, , 'ro')\n",
    "    # axes.axhline(unnt[:, 50], -2.6, 2.6, c='k', ls='--')\n",
    "    axes.plot(xx,unnt[:,i], label='LH')\n",
    "    axes.plot(xx,unnt_LL[:,i], label='LL')\n",
    "    axes.set_title('t=%.2f'%t[i])\n",
    "    axes.set_ylim(-0.05, 1.05)\n",
    "    axes.legend(loc='upper right', frameon=True, framealpha=0.5)"
   ]
  },
  {
   "cell_type": "code",
   "execution_count": null,
   "metadata": {},
   "outputs": [],
   "source": [
    "fig, axes = plt.subplots(nrows=1, ncols=1, figsize=(7, 3))\n",
    "anim = FuncAnimation(fig, animate, interval=30, frames=nt, init_func=init)\n",
    "plt.close()\n",
    "HTML(anim.to_jshtml())"
   ]
  },
  {
   "attachments": {},
   "cell_type": "markdown",
   "metadata": {},
   "source": [
    "<span style=\"color:#78AE7E\">\n",
    "\n",
    "Here we have compared the Strang method with (LH) and without (LL) the Hyman predictor-corrector method. Both solutions are stable, as is expected. \n",
    "\n",
    "We can see, however, that the Hyman method seems to be moving ahead of the LL-method, but at around the same pace. By marking one spot we can see that both solutions have diffused almost equally much at this point on the x-axis, though if you look very carefully, it seems the LL method has just a *little* higher amplitude at that point. Below we take an even closer look at this.\n",
    "<span>"
   ]
  },
  {
   "cell_type": "code",
   "execution_count": null,
   "metadata": {},
   "outputs": [],
   "source": [
    "n = 321\n",
    "\n",
    "plt.plot(xx, unnt[:, n], label=f'LH (t={t[n]:.2f})')\n",
    "plt.plot(xx, unnt_LL[:, n+105], label=f'LL (t={t[n+105]:.2f})')\n",
    "plt.xlim(-1, 1); plt.ylim(0.51, 0.56)\n",
    "plt.legend(frameon=True, framealpha=1)"
   ]
  },
  {
   "attachments": {},
   "cell_type": "markdown",
   "metadata": {},
   "source": [
    "<span style=\"color:#78AE7E\">\n",
    "\n",
    "This figure shows a very zoomed in view of the two solutions at the respective time steps which they both pass the same point on the x-axis, after moving one \"round\" in the spatial simulation scope, and ending up back at $x=0$. \n",
    "\n",
    "Here we see that the LL-method indeed has a slightly higher amplitude than the LH-method. This leads me to believe that the LL-method without the Hyman predictor-corrector is a little bit less diffusive in this case. \n",
    "\n",
    "I am not sure why this is the case, as I struggled a bit to understamd the Hyman method. It could very well be that I implemented it wrong too! \n",
    "\n",
    "<span>"
   ]
  }
 ],
 "metadata": {
  "kernelspec": {
   "display_name": "Python 3 (ipykernel)",
   "language": "python",
   "name": "python3"
  },
  "language_info": {
   "codemirror_mode": {
    "name": "ipython",
    "version": 3
   },
   "file_extension": ".py",
   "mimetype": "text/x-python",
   "name": "python",
   "nbconvert_exporter": "python",
   "pygments_lexer": "ipython3",
   "version": "3.10.8"
  }
 },
 "nbformat": 4,
 "nbformat_minor": 4
}
