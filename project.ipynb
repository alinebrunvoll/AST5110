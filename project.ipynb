{
 "cells": [
  {
   "attachments": {},
   "cell_type": "markdown",
   "metadata": {},
   "source": [
    "# Practice: First, Hydro-dynamical PDE models"
   ]
  },
  {
   "cell_type": "code",
   "execution_count": 2,
   "metadata": {},
   "outputs": [],
   "source": [
    "import numpy as np\n",
    "import matplotlib.pyplot as plt"
   ]
  },
  {
   "attachments": {},
   "cell_type": "markdown",
   "metadata": {},
   "source": [
    "As modelers of stellar atmospheres, we are primarily interested in solving the equations of mass, momentum, and energy balance, along with the equations governing the evolution of the magnetic field, the transport equations for the radiation field, heat flux equations, etc. For this project, we will start with the hydrodynamic equations in 1 dimension as follows: "
   ]
  },
  {
   "attachments": {},
   "cell_type": "markdown",
   "metadata": {},
   "source": [
    "$$ \\frac{\\partial \\rho}{\\partial t} + \\nabla \\cdot (\\rho \\bf u) = 0 $$\n",
    "\n",
    "$$ \\frac{\\partial \\rho {\\bf u}}{\\partial t} + \\nabla \\cdot (\\rho {\\bf u} \\otimes {\\bf u}) = - \\nabla (P_g)$$\n",
    "\n",
    "$$ \\frac{\\partial e}{\\partial t } = -\\nabla\\cdot e {\\bf u} -P_g \\nabla \\cdot {\\bf u}$$\n",
    "\n",
    "where $\\rho$, $\\bf u$, $P_g$, and $e$ are the density, velocity vector, gas pressure, and internal energy. $\\cdot$ and $\\otimes$ are the dyadic and tensorial product, respectively. One extra equation needs to connect the pressure with the energy. For this you can use $P_g  = (\\gamma-1)e/\\rho$ where $\\gamma=5/3$. Note that, in 1 dimension the operation  $\\nabla \\cdot (\\rho {\\bf u} \\otimes {\\bf u})$ becomes as follows: \n",
    "\n",
    "$$ \\nabla \\cdot (\\rho {\\bf u} \\otimes {\\bf u}) = \\frac{\\partial (\\rho u^2)}{\\partial x} $$"
   ]
  },
  {
   "attachments": {},
   "cell_type": "markdown",
   "metadata": {},
   "source": [
    "<span style=\"color:#78AE7E\">\n",
    "\n",
    "## Questions:\n",
    "\n",
    "- Should we only work with actual Bifrost, and don't use e.g. the nm_lib anymore...? ?? \n",
    "  - workplace, input files, etc. \n",
    "- Semya: Can she add thermal conduction if she uses Bifrost? \n",
    "- Aline: Same here, can I use only Bifrost to extend to 3 dimensions?\n",
    "\n",
    "\n",
    ".IDL and .snap- files = setup files. \n",
    "\n",
    "-> Brio-Wu test \n",
    "\n",
    "\n",
    "-> play with nu and eta\n",
    "-> first 3 are \n",
    "\n",
    "\n",
    "1. run default\n",
    "2. turn off nu_r and nu_ee and see if it runs nice \n",
    "\n",
    "in make_snaps-py file add data[....., 5] 6 and 7 for magnetic field. \n",
    "\n",
    "\n",
    "\n",
    "TIMESTEPS: \n",
    "Cdt param : = cfl cut in nm_lib \n",
    "\n",
    "<span>"
   ]
  },
  {
   "attachments": {},
   "cell_type": "markdown",
   "metadata": {},
   "source": [
    "## 1- Build or select your code \n",
    "\n",
    "In this exercise, you can select one of the following options: \n",
    "\n",
    "1. Build your hydro-dynamical (HD) numerical code applying the tools/functions learned during the 6th different assessment. Solve the above set of equations in one dimension. \n",
    "\n",
    "    __A plus__ implement the [Bifrost 6th order spatial derivative, 5th order spatial interpolation](https://github.com/AST-Course/AST5110/wiki/Discretization) with the hyper-diffusion scheme (see [wiki](https://github.com/AST-Course/AST5110/wiki/Hyper-diffusive)). Note that Bifrost is using a [staggered mesh](https://github.com/AST-Course/AST5110/wiki/Staggered-mesh) where the density, pressure, energy, and temperature are cell-centered, and velocity and momentum are at the edges (in 1 dimension). \n",
    "\n",
    "    __A plus__ implement the [Flux limiter method](https://github.com/AST-Course/AST5110/wiki/Flux-limiter-method).\n",
    "\n",
    "    __A plus__ implement the [Rieman Solver method](https://github.com/AST-Course/AST5110/wiki/Rieman-Solver-method).\n",
    "\n",
    "    What would you choose for the CFL condition? \n",
    "\n",
    "2. Use the Bifrost, Ebysus, or other numerical codes you are interested in learning. \n",
    "\n",
    "    Note that I can help only with the numerical codes that I'm familiar with, but you should still select the ones you are interested in as long as you have access to them. \n",
    "\n",
    "    Johannes: Since you do this excersize with an existing code. You will need to investigate, spatial derivative order and temporal orders. Fully test with Riemann solvers. As well as investigate the k-diagrams for a test that has initial random perturbations in density/velocity. "
   ]
  },
  {
   "attachments": {},
   "cell_type": "markdown",
   "metadata": {},
   "source": [
    "<span style=\"color:#78AE7E\">\n",
    "\n",
    "I will use the Bifrost code with the Dispatch framework. \n",
    "\n",
    "GitHub: https://github.com/ITA-Solar/Dispatch-Bifrost\n",
    " \n",
    "\n",
    "</span>"
   ]
  },
  {
   "attachments": {},
   "cell_type": "markdown",
   "metadata": {},
   "source": [
    "## 2- Test the code\n",
    "\n",
    "Set your code to run a 1D problem using the following initial conditions. The fluid is initially at rest on either side of a density and pressure jump. To the left, respectively right side of the interface, we have: \n",
    "\n",
    "$\\rho_L = 0.125$\n",
    "\n",
    "$\\rho_R = 1.0$\n",
    "\n",
    "$Pg_L = 0.125/\\gamma$\n",
    "\n",
    "$Pg_R = 1.0/\\gamma$\n",
    "\n",
    "The ratio of specific heats is chosen to be $\\gamma = 5/3$ on both sides of the interface. The units are normalized, with the density and pressure in units of the density and pressure on the left-hand side of the jump and the velocity in units of the sound speed. The length unit is the size of the domain and the time in units of the time required to cross the domain at the speed of sound.\n",
    "\n",
    "What boundary conditions would you choose?\n",
    "What do you see? \n",
    "\n",
    "This is known as the Sod-shock tube test [Sod et al. 1978](https://ui.adsabs.harvard.edu/abs/1978JCoPh..27....1S/abstract), a standard test in computational HD codes. It consists of a one-dimensional flow discontinuity problem that provides a good test of a compressible code’s ability to capture shocks and contact discontinuities within a few grid zones and produce the correct density profile in a rarefaction or expansion wave. The test can also be used to check if the code can satisfy the Rankine-Hugoniot shock jump conditions since this test has an analytical solution. If you have access, you can also look at _Computational Gasdynamics book from Culbert B. Laney_ Section 5. However, many other books will describe this problem in detail. \n",
    " \n",
    "Compare the simulation with the analytical solution. This could be used for a sanity test after new additions to the code. \n",
    "\n",
    "__Suggestion__ This test might be too complex to debug the code. However, as a starting debugging test, you can consider an advection test (constant initial velocity) of a gaussian density perturbation in pressure balance. \n",
    "\n",
    " Johannes: In addition, add and 1D MHD Roe tests. "
   ]
  },
  {
   "attachments": {},
   "cell_type": "markdown",
   "metadata": {},
   "source": [
    "Note that by using the equation of state, $e = P_g/(\\gamma - 1)\\rho$, it is possible to compute the intial energy. "
   ]
  },
  {
   "attachments": {},
   "cell_type": "markdown",
   "metadata": {},
   "source": [
    "<span style=\"color:#78AE7E\">\n",
    "\n",
    "The Dispatch framework already contains a text-file with data points for the analytical solution of the Sod-shock tube test. I will add the plot here. \n",
    "\n",
    "The initial conditions I used are not as described above, but instead they are given as: \n",
    "\n",
    "| Left |  | Right |  |\n",
    "| --- | --- | --- | --- |\n",
    "$\\rho_l$ | 1.0 | $\\rho_r$ | 0.125\n",
    "$P_l$ | 1.0 | $P_r$ | 0.1\n",
    "$v_{x, l}$ | 0.0 | $v_{x, r}$ | 0.0\n",
    "$B_{x, l}$ | 0.0 | $B_{x, r}$ | 0.0\n",
    "\n",
    "</span>"
   ]
  },
  {
   "attachments": {},
   "cell_type": "markdown",
   "metadata": {},
   "source": [
    "![The Sod shoch tube test compared to its analytical solutions](figures/ast5110_sod_bifrost_x_subplot.png)\n",
    "\n",
    "<span style=\"color:#78AE7E\">\n",
    "\n",
    "Figure 1: Analytical and numerical solution of the Sod shock-tube problem \n",
    "\n",
    "</span>"
   ]
  },
  {
   "attachments": {},
   "cell_type": "markdown",
   "metadata": {},
   "source": [
    "<span style=\"color:#78AE7E\">\n",
    "\n",
    "### Looking for analytical solution. \n",
    "\n",
    "We can advance it in time using the Euler equations.\n",
    "\n",
    "Wikipedia lists ...\n",
    "\n",
    "</span>"
   ]
  },
  {
   "cell_type": "code",
   "execution_count": 3,
   "metadata": {},
   "outputs": [],
   "source": [
    "gamma = 1.4\n",
    "\n",
    "P_L = 1\n",
    "P_R = 0.1\n",
    "\n",
    "rho_L = 1\n",
    "rho_R = 0.125\n",
    "\n",
    "u_L = 0\n",
    "u_R = 0\n"
   ]
  },
  {
   "cell_type": "code",
   "execution_count": 4,
   "metadata": {},
   "outputs": [],
   "source": [
    "P_1 = P_L\n",
    "rho_1 = rho_L\n",
    "u_1 = u_L\n",
    "P_5 = P_R\n",
    "rho_5 = rho_R\n",
    "u_5 = u_R\n",
    "\n",
    "cs_1 = np.sqrt(gamma * P_L / rho_L)\n",
    "cs_5 = np.sqrt(gamma * P_R / rho_R)\n",
    "\n",
    "Gamma = (gamma - 1) / (gamma + 1)\n",
    "beta = (gamma - 1) / (2 * gamma)\n",
    "\n",
    "# Pressure in the third region\n",
    "def pressure_3():\n",
    "    P3_list = np.arange(0, 0.5, 1e-5)\n",
    "    for P3 in P3_list: \n",
    "        u_4 = (P3 - P_5) * np.sqrt( (1 - Gamma) / (rho_5 * (P3 + Gamma*P_5)) )\n",
    "        u_3 = (P_1**beta - P3**beta) * np.sqrt( (1 - Gamma**2) * P_1**(1/gamma) / (Gamma**2 * rho_L))\n",
    "        if np.abs(u_3 - u_4) < 1e-4:\n",
    "            return P3\n",
    "        \n",
    "P_3 = pressure_3()\n",
    "P_4 = P_3\n",
    "\n",
    "# Rankine Hugoniot shock jump conditions    \n",
    "def shock_jump(P_5, rho_5):\n",
    "    rho_4 = rho_5 * ( (P_4 + Gamma*P_5) / (P_5 + Gamma*P_4) )\n",
    "    return rho_4\n",
    "\n",
    "rho_4 = shock_jump(P_5, rho_5)\n",
    "\n",
    "u_3 = u_5 + (P_3 - P_5) / ( np.sqrt(rho_5 / 2 * (gamma + 1)*P_3 + (gamma - 1) * P_5 ) )\n",
    "u_4 = u_3 \n",
    "\n",
    "rho_3 = rho_1 * (P_3 / P_1)**(1/gamma)\n",
    "\n",
    "def u2(x): \n",
    "    return 2 / (gamma + 1) * (cs_1 + (x - x_mid) / t)\n",
    "\n",
    "def rho2(x):\n",
    "    return rho_1 * (1 - (gamma - 1)/2 * u2(x) / cs_1)**(2*gamma / (gamma - 1))\n",
    "\n",
    "def P2(x):\n",
    "    return P_1 * (1 - (gamma - 1)/2 * u2(x) / cs_1)**(2*gamma / (gamma - 1)) \n"
   ]
  },
  {
   "cell_type": "code",
   "execution_count": 15,
   "metadata": {},
   "outputs": [],
   "source": [
    "x_1 = np.arange(0, 1/5, 1e-5)\n",
    "x_2 = np.arange(1/5, 2/5, 1e-5)\n",
    "x_3 = np.arange(2/5, 3/5, 1e-5)\n",
    "x_4 = np.arange(3/5, 4/5, 1e-5)\n",
    "x_5 = np.arange(4/5, 5/5, 1e-5)\n",
    "\n",
    "t = 0.255\n",
    "x_mid = 0.5 # middle of grid\n",
    "\n",
    "u_2_arr = u2(x_2)\n",
    "rho_2_arr = rho2(x_2)\n",
    "P_2_arr = P2(x_2)\n",
    "\n",
    "def fill_array(value, x_array):\n",
    "    value_array = np.ones((len(x_array))) \n",
    "    value_array *= value\n",
    "    return value_array\n",
    "\n",
    "u_1_arr = fill_array(u_1, x_1)\n",
    "u_3_arr = fill_array(u_3, x_3)\n",
    "u_4_arr = fill_array(u_4, x_4)\n",
    "u_5_arr = fill_array(u_5, x_5)\n",
    "\n",
    "rho_1_arr = fill_array(rho_1, x_1)\n",
    "rho_3_arr = fill_array(rho_3, x_3)\n",
    "rho_4_arr = fill_array(rho_4, x_4)\n",
    "rho_5_arr = fill_array(rho_5, x_5)\n",
    "\n",
    "P_1_arr = fill_array(P_1, x_1)\n",
    "P_3_arr = fill_array(P_3, x_3)\n",
    "P_4_arr = fill_array(P_4, x_4)\n",
    "P_5_arr = fill_array(P_5, x_5)\n"
   ]
  },
  {
   "cell_type": "code",
   "execution_count": 16,
   "metadata": {},
   "outputs": [
    {
     "data": {
      "image/png": "[encoded data removed]",
      "text/plain": [
       "<Figure size 900x300 with 3 Axes>"
      ]
     },
     "metadata": {},
     "output_type": "display_data"
    }
   ],
   "source": [
    "x = np.concatenate((x_1, x_2, x_3, x_4, x_5))\n",
    "rho = np.concatenate((rho_1_arr, rho_2_arr, rho_3_arr, rho_4_arr, rho_5_arr))\n",
    "P = np.concatenate((P_1_arr, P_2_arr, P_3_arr, P_4_arr, P_5_arr))\n",
    "u = np.concatenate((u_1_arr, u_2_arr, u_3_arr, u_4_arr, u_5_arr))\n",
    "\n",
    "fig, ax = plt.subplots(1, 3, figsize=(9, 3))\n",
    "ax[0].plot(x, rho)\n",
    "ax[0].set_xlabel('x')\n",
    "ax[0].set_ylabel('rho')\n",
    "ax[0].set_title('Density')\n",
    "\n",
    "ax[1].plot(x, P)\n",
    "ax[1].set_xlabel('x')\n",
    "ax[1].set_ylabel('P')\n",
    "ax[1].set_title('Pressure')\n",
    "\n",
    "ax[2].plot(x, u)\n",
    "ax[2].set_xlabel('x')\n",
    "ax[2].set_ylabel('u')\n",
    "ax[2].set_title('Velocity')\n",
    "\n",
    "plt.tight_layout()"
   ]
  },
  {
   "attachments": {},
   "cell_type": "markdown",
   "metadata": {},
   "source": [
    "<span style=\"color:#78AE7E\">\n",
    "\n",
    "## Biggest problem: \n",
    "Why do I have to set t=2.55, even though it's supposed to be t=0.2 on wikipedia where the rest of the conditions are? \n",
    "\n",
    "A.k.a the time dependence in region 2 doesn't work...\n",
    "\n",
    "</span>"
   ]
  },
  {
   "attachments": {},
   "cell_type": "markdown",
   "metadata": {},
   "source": [
    "## 3-  2D models (Aline & Camilla -- turbulence) \n",
    "\n",
    "Expand the following equations into a two (or three) dimensions. In order to facilitate the implementation, consider step 1 and 2 already in 3D. So, the variables are 3D (nx,ny,nz). In that case, in 1D, the variables are still 3D, i.e., (nx, 1, 1). Where the derivatives out of the domain are zero, i.e., $\\frac{\\partial \\rho}{\\partial z} = 0$\n",
    "\n",
    "$ \\frac{\\partial \\rho}{\\partial t} + \\nabla \\cdot (\\rho \\bf u) = 0 $\n",
    "\n",
    "$ \\frac{\\partial \\rho {\\bf u}}{\\partial t} + \\nabla \\cdot (\\rho {\\bf u} \\otimes {\\bf u}) = - \\nabla (P_g)$\n",
    "\n",
    "$ \\frac{\\partial e}{\\partial t } = -\\nabla\\cdot e {\\bf u} -P_g \\nabla \\cdot {\\bf u}$\n",
    "\n",
    "Consider to implement Bifrost numerical scheme (derivations, interpolations and hyper diffusive term). To clarify the diadic and tensorial product as well as the multi-dimensions. The momentum conservation becomes into 2 (in 2D) or 3 (in 2.5D or 3D) equations, i.e., for the x, y and/or z components. The following operation $\\nabla \\cdot (\\rho {\\bf u} \\otimes {\\bf u})$  can be expanded as follows for the x, y and z components: \n",
    "\n",
    "$\\frac {\\partial \\rho u_x^2}{\\partial x} + \\frac {\\partial \\rho u_x u_y}{\\partial y} + \\frac {\\partial \\rho u_x u_z}{\\partial z}$\n",
    "\n",
    "$\\frac {\\partial \\rho u_y^2}{\\partial y} + \\frac {\\partial \\rho u_x u_y}{\\partial x} + \\frac {\\partial \\rho u_y u_z}{\\partial z}$\n",
    "\n",
    "$\\frac {\\partial \\rho u_z^2}{\\partial z} + \\frac {\\partial \\rho u_z u_y}{\\partial y} + \\frac {\\partial \\rho u_x u_z}{\\partial x}$\n",
    "\n",
    "which comes from the following matrix operations: \n",
    "\n",
    "$\n",
    "\\nabla \\cdot (\\rho {\\mathbf{u} \\otimes \\mathbf{u}})=\\left[\\begin{array}{c}\n",
    "\\frac{\\partial}{\\partial x} \\\\\n",
    "\\frac{\\partial}{\\partial y} \\\\\n",
    "\\frac{\\partial}{\\partial z}\n",
    "\\end{array}\\right]\n",
    "\\left(\\rho\n",
    "\\left[\\begin{array}{cccc}\n",
    "u_{x} u_{x} & u_{x} u_{y} & u_{x} u_{z} \\\\\n",
    "u_{y} u_{x} & u_{y} u_{y} & u_{y} u_{z} \\\\\n",
    "u_{z} u_{x} & u_{z} u_{y} & u_{z} u_{z}\n",
    "\\end{array}\\right]\\right)\n",
    "$\n",
    "\n",
    "\n",
    "### 3a- Test the code: \n",
    "\n",
    "For simplicity, consider a 2D gaussian profile in density which is pressure balance and with an initial velocity (like for 1D case).  I recommend that the initial velocity is diagonal. \n",
    "\n",
    "__bonus__ you can also add other test that are described here [Flash code hydro tests](http://flash.uchicago.edu/site/flashcode/user_support/flash_ug_devel/node184.html#SECTION010115000000000000000). From that list, good options are Blast, Sedov explosion, Isentropic Vortex, or Relativistic Two-dimensional Riemann (but not relativistic). "
   ]
  },
  {
   "attachments": {},
   "cell_type": "markdown",
   "metadata": {},
   "source": [
    "## 4- \"chromospheric\"-coronal transitions: Prominences and spicules \n",
    "\n",
    "### 4.1- Kelvin-Helmhotz instability in Spicules\n",
    "Kelvin-Helmhotz instability: Spicules are highly dynamic cold dens material traveling into the million degrees corona. Investigate the shear, vortices, scales, and mixing with the following initial setup. Devide the domain with background environmetal properties, 1) typical from quiet corona (i.e., 1 million K degrees and densities of $10^{-14}$ g/cm$^3$) and zero velocity 2) typical from the upper-chromosphere (i.e., 8,000 K degrees and densities of $10^{-12}$ g/cm$^3$) with 100km/s [Chintzoglou et al. 2021](https://iopscience.iop.org/article/10.3847/1538-4357/abc9b1). One could consider periodic boundary conditions if the middle of the domain is the upper chromosphere, and top and bottom corona.\n",
    "\n",
    "### 4.2- Rayleigh-Taylor instability in Prominences\n",
    "Rayleigh-Taylor instability: Solar Prominences are cold dens material embebed in the million degrees corona. Add gravity to the HD eq. Using the same setup but the chromospheric material will be above the corona, both with zero velocity. Investigate the vortices, scales, and mixing. In this case, one needs to have constant extrapolation at the top and bottom where the top is the prominence and the bottom the corona.\n",
    "\n",
    "Investigate with different numerical domains and resolutions in both setups."
   ]
  }
 ],
 "metadata": {
  "kernelspec": {
   "display_name": "ast_env",
   "language": "python",
   "name": "ast_env"
  },
  "language_info": {
   "codemirror_mode": {
    "name": "ipython",
    "version": 3
   },
   "file_extension": ".py",
   "mimetype": "text/x-python",
   "name": "python",
   "nbconvert_exporter": "python",
   "pygments_lexer": "ipython3",
   "version": "3.10.8"
  },
  "vscode": {
   "interpreter": {
    "hash": "916dbcbb3f70747c44a77c7bcd40155683ae19c65e1c03b4aa3499c5328201f1"
   }
  }
 },
 "nbformat": 4,
 "nbformat_minor": 4
}
