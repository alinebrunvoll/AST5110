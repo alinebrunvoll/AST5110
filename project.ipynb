{
 "cells": [
  {
   "attachments": {},
   "cell_type": "markdown",
   "metadata": {},
   "source": [
    "# Practice: First, Hydro-dynamical PDE models"
   ]
  },
  {
   "cell_type": "code",
   "execution_count": 78,
   "metadata": {},
   "outputs": [],
   "source": [
    "import numpy as np\n",
    "import matplotlib.pyplot as plt\n",
    "from scipy.optimize import fsolve"
   ]
  },
  {
   "attachments": {},
   "cell_type": "markdown",
   "metadata": {},
   "source": [
    "As modelers of stellar atmospheres, we are primarily interested in solving the equations of mass, momentum, and energy balance, along with the equations governing the evolution of the magnetic field, the transport equations for the radiation field, heat flux equations, etc. For this project, we will start with the hydrodynamic equations in 1 dimension as follows: "
   ]
  },
  {
   "attachments": {},
   "cell_type": "markdown",
   "metadata": {},
   "source": [
    "$$ \\frac{\\partial \\rho}{\\partial t} + \\nabla \\cdot (\\rho \\bf u) = 0 $$\n",
    "\n",
    "$$ \\frac{\\partial \\rho {\\bf u}}{\\partial t} + \\nabla \\cdot (\\rho {\\bf u} \\otimes {\\bf u}) = - \\nabla (P_g)$$\n",
    "\n",
    "$$ \\frac{\\partial e}{\\partial t } = -\\nabla\\cdot e {\\bf u} -P_g \\nabla \\cdot {\\bf u}$$\n",
    "\n",
    "where $\\rho$, $\\bf u$, $P_g$, and $e$ are the density, velocity vector, gas pressure, and internal energy. $\\cdot$ and $\\otimes$ are the dyadic and tensorial product, respectively. One extra equation needs to connect the pressure with the energy. For this you can use $P_g  = (\\gamma-1)e/\\rho$ where $\\gamma=5/3$. Note that, in 1 dimension the operation  $\\nabla \\cdot (\\rho {\\bf u} \\otimes {\\bf u})$ becomes as follows: \n",
    "\n",
    "$$ \\nabla \\cdot (\\rho {\\bf u} \\otimes {\\bf u}) = \\frac{\\partial (\\rho u^2)}{\\partial x} $$"
   ]
  },
  {
   "attachments": {},
   "cell_type": "markdown",
   "metadata": {},
   "source": [
    "<span style=\"color:#78AE7E\">\n",
    "\n",
    "## Questions:\n",
    "\n",
    "- Should we only work with actual Bifrost, and don't use e.g. the nm_lib anymore...? ?? \n",
    "  - workplace, input files, etc. \n",
    "- Semya: Can she add thermal conduction if she uses Bifrost? \n",
    "- Aline: Same here, can I use only Bifrost to extend to 3 dimensions?\n",
    "\n",
    "\n",
    ".IDL and .snap- files = setup files. \n",
    "\n",
    "-> Brio-Wu test \n",
    "\n",
    "\n",
    "-> play with nu and eta\n",
    "-> first 3 are \n",
    "\n",
    "\n",
    "1. run default\n",
    "2. turn off nu_r and nu_ee and see if it runs nice \n",
    "\n",
    "in make_snaps-py file add data[....., 5] 6 and 7 for magnetic field. \n",
    "\n",
    "\n",
    "\n",
    "TIMESTEPS: \n",
    "Cdt param : = cfl cut in nm_lib \n",
    "\n",
    "<span>"
   ]
  },
  {
   "attachments": {},
   "cell_type": "markdown",
   "metadata": {},
   "source": [
    "## 1- Build or select your code \n",
    "\n",
    "In this exercise, you can select one of the following options: \n",
    "\n",
    "1. Build your hydro-dynamical (HD) numerical code applying the tools/functions learned during the 6th different assessment. Solve the above set of equations in one dimension. \n",
    "\n",
    "    __A plus__ implement the [Bifrost 6th order spatial derivative, 5th order spatial interpolation](https://github.com/AST-Course/AST5110/wiki/Discretization) with the hyper-diffusion scheme (see [wiki](https://github.com/AST-Course/AST5110/wiki/Hyper-diffusive)). Note that Bifrost is using a [staggered mesh](https://github.com/AST-Course/AST5110/wiki/Staggered-mesh) where the density, pressure, energy, and temperature are cell-centered, and velocity and momentum are at the edges (in 1 dimension). \n",
    "\n",
    "    __A plus__ implement the [Flux limiter method](https://github.com/AST-Course/AST5110/wiki/Flux-limiter-method).\n",
    "\n",
    "    __A plus__ implement the [Rieman Solver method](https://github.com/AST-Course/AST5110/wiki/Rieman-Solver-method).\n",
    "\n",
    "    What would you choose for the CFL condition? \n",
    "\n",
    "2. Use the Bifrost, Ebysus, or other numerical codes you are interested in learning. \n",
    "\n",
    "    Note that I can help only with the numerical codes that I'm familiar with, but you should still select the ones you are interested in as long as you have access to them. \n",
    "\n",
    "    Johannes: Since you do this excersize with an existing code. You will need to investigate, spatial derivative order and temporal orders. Fully test with Riemann solvers. As well as investigate the k-diagrams for a test that has initial random perturbations in density/velocity. "
   ]
  },
  {
   "attachments": {},
   "cell_type": "markdown",
   "metadata": {},
   "source": [
    "<span style=\"color:#78AE7E\">\n",
    "\n",
    "I will use the Bifrost code with the Dispatch framework. \n",
    "\n",
    "GitHub: https://github.com/ITA-Solar/Dispatch-Bifrost\n",
    " \n",
    "\n",
    "</span>"
   ]
  },
  {
   "attachments": {},
   "cell_type": "markdown",
   "metadata": {},
   "source": [
    "## 2- Test the code\n",
    "\n",
    "Set your code to run a 1D problem using the following initial conditions. The fluid is initially at rest on either side of a density and pressure jump. To the left, respectively right side of the interface, we have: \n",
    "\n",
    "$\\rho_L = 0.125$\n",
    "\n",
    "$\\rho_R = 1.0$\n",
    "\n",
    "$Pg_L = 0.125/\\gamma$\n",
    "\n",
    "$Pg_R = 1.0/\\gamma$\n",
    "\n",
    "The ratio of specific heats is chosen to be $\\gamma = 5/3$ on both sides of the interface. The units are normalized, with the density and pressure in units of the density and pressure on the left-hand side of the jump and the velocity in units of the sound speed. The length unit is the size of the domain and the time in units of the time required to cross the domain at the speed of sound.\n",
    "\n",
    "What boundary conditions would you choose?\n",
    "What do you see? \n",
    "\n",
    "This is known as the Sod-shock tube test [Sod et al. 1978](https://ui.adsabs.harvard.edu/abs/1978JCoPh..27....1S/abstract), a standard test in computational HD codes. It consists of a one-dimensional flow discontinuity problem that provides a good test of a compressible code’s ability to capture shocks and contact discontinuities within a few grid zones and produce the correct density profile in a rarefaction or expansion wave. The test can also be used to check if the code can satisfy the Rankine-Hugoniot shock jump conditions since this test has an analytical solution. If you have access, you can also look at _Computational Gasdynamics book from Culbert B. Laney_ Section 5. However, many other books will describe this problem in detail. \n",
    " \n",
    "Compare the simulation with the analytical solution. This could be used for a sanity test after new additions to the code. \n",
    "\n",
    "__Suggestion__ This test might be too complex to debug the code. However, as a starting debugging test, you can consider an advection test (constant initial velocity) of a gaussian density perturbation in pressure balance. \n",
    "\n",
    " Johannes: In addition, add and 1D MHD Roe tests. "
   ]
  },
  {
   "attachments": {},
   "cell_type": "markdown",
   "metadata": {},
   "source": [
    "Note that by using the equation of state, $e = P_g/(\\gamma - 1)\\rho$, it is possible to compute the intial energy. "
   ]
  },
  {
   "attachments": {},
   "cell_type": "markdown",
   "metadata": {},
   "source": [
    "<span style=\"color:#78AE7E\">\n",
    "\n",
    "The Dispatch framework already contains a text-file with data points for the analytical solution of the Sod-shock tube test. I will add the plot here. \n",
    "\n",
    "The initial conditions I used are not as described above, but instead they are given as: \n",
    "\n",
    "| Left |  | Right |  |\n",
    "| --- | --- | --- | --- |\n",
    "$\\rho_l$ | 1.0 | $\\rho_r$ | 0.125\n",
    "$P_l$ | 1.0 | $P_r$ | 0.1\n",
    "$v_{x, l}$ | 0.0 | $v_{x, r}$ | 0.0\n",
    "$B_{x, l}$ | 0.0 | $B_{x, r}$ | 0.0\n",
    "\n",
    "</span>"
   ]
  },
  {
   "attachments": {},
   "cell_type": "markdown",
   "metadata": {},
   "source": [
    "![The Sod shoch tube test compared to its analytical solutions](figures/ast5110_sod_bifrost_x_subplot.png)\n",
    "\n",
    "<span style=\"color:#78AE7E\">\n",
    "\n",
    "Figure 1: Analytical and numerical solution of the Sod shock-tube problem \n",
    "\n",
    "</span>"
   ]
  },
  {
   "attachments": {},
   "cell_type": "markdown",
   "metadata": {},
   "source": [
    "<span style=\"color:#78AE7E\">\n",
    "\n",
    "### Looking for analytical solution. \n",
    "\n",
    "We can advance it in time using the Euler equations.\n",
    "\n",
    "Wikipedia lists ...\n",
    "\n",
    "</span>"
   ]
  },
  {
   "cell_type": "code",
   "execution_count": 2,
   "metadata": {},
   "outputs": [],
   "source": [
    "gamma = 1.4\n",
    "\n",
    "P_L = 1\n",
    "P_R = 0.1\n",
    "\n",
    "rho_L = 1\n",
    "rho_R = 0.125\n",
    "\n",
    "u_L = 0\n",
    "u_R = 0\n"
   ]
  },
  {
   "cell_type": "code",
   "execution_count": 75,
   "metadata": {},
   "outputs": [],
   "source": [
    "P_1 = P_L\n",
    "rho_1 = rho_L\n",
    "u_1 = u_L\n",
    "P_5 = P_R\n",
    "rho_5 = rho_R\n",
    "u_5 = u_R\n",
    "\n",
    "cs_1 = np.sqrt(gamma * P_L / rho_L)\n",
    "cs_5 = np.sqrt(gamma * P_R / rho_R)\n",
    "\n",
    "\n",
    "Gamma = (gamma - 1) / (gamma + 1)\n",
    "beta = (gamma - 1) / (2 * gamma)\n",
    "\n",
    "# Pressure in the third region\n",
    "def pressure_3():\n",
    "    P3_list = np.arange(0, 0.5, 1e-5)\n",
    "    for P3 in P3_list: \n",
    "        u_4 = (P3 - P_5) * np.sqrt( (1 - Gamma) / (rho_5 * (P3 + Gamma*P_5)) )\n",
    "        u_3 = (P_1**beta - P3**beta) * np.sqrt( (1 - Gamma**2) * P_1**(1/gamma) / (Gamma**2 * rho_L))\n",
    "        if np.abs(u_3 - u_4) < 1e-4:\n",
    "            return P3\n",
    "        \n",
    "P_3 = pressure_3()\n",
    "P_4 = P_3\n",
    "\n",
    "pressure_ratio = P_4/P_5 - 1\n",
    "\n",
    "# Rankine Hugoniot shock jump conditions    \n",
    "def shock_jump(P_5, rho_5):\n",
    "    rho_4 = rho_5 * ( (P_4 + Gamma*P_5) / (P_5 + Gamma*P_4) ) \n",
    "    rho_4 = rho_5 * ( 1 + 0.5* (gamma + 1)/gamma * pressure_ratio ) / ( 1 + 0.5* (gamma - 1)/gamma * pressure_ratio )\n",
    "    return rho_4\n",
    "\n",
    "rho_4 = shock_jump(P_5, rho_5)\n",
    "\n",
    "# u_3 = u_5 + (P_3 - P_5) / ( np.sqrt(rho_5 / 2 * (gamma + 1)*P_3 + (gamma - 1)*P_5 ) ) # Mistake??\n",
    "u_3 = cs_5 * pressure_ratio / (gamma * np.sqrt(1 + 0.5*(gamma + 1) / gamma))\n",
    "u_4 = u_3 \n",
    "\n",
    "rho_3 = rho_1 * (P_3 / P_1)**(1/gamma)\n",
    "\n",
    "# Region 2 \n",
    "def u2(x): \n",
    "    return 2 / (gamma + 1) * (cs_1 + (x - x_mid) / t)\n",
    "\n",
    "def rho2(x):\n",
    "    # return rho_1 * (1 - (gamma - 1)/2 * u2(x) / cs_1)**(2*gamma / (gamma - 1))\n",
    "    return rho_1 * (1 - (gamma - 1)/2 * u2(x) / cs_1)**(2 / (gamma - 1))\n",
    "\n",
    "def P2(x):\n",
    "    return P_1 * (1 - (gamma - 1)/2 * u2(x) / cs_1)**(2*gamma / (gamma - 1))\n"
   ]
  },
  {
   "cell_type": "code",
   "execution_count": 76,
   "metadata": {},
   "outputs": [
    {
     "name": "stdout",
     "output_type": "stream",
     "text": [
      "0.26335680867601535\n",
      "0.533764\n",
      "0.725341407714537\n",
      "0.7116601048851672\n"
     ]
    }
   ],
   "source": [
    "N = int(1e6)\n",
    "\n",
    "t = 0.2\n",
    "x_mid = 0.5 # middle of grid\n",
    "\n",
    "x = np.linspace(0, 1, N)\n",
    "\n",
    "# define regions\n",
    "p_12 = 0.5 - cs_1 * t\n",
    "p_23 = np.where(np.abs(u2(x) - u_3) < 1e-5)[0][0] / N # find where the lines intersect (u)\n",
    "p_34 = 0.5 + u_3 * t   # d = v * t\n",
    "p_45 = 0.5 + cs_5 * t\n",
    "\n",
    "print(p_12)\n",
    "print(p_23)\n",
    "print(p_34)\n",
    "print(p_45)\n",
    "\n",
    "# make indices for regions\n",
    "i_12 = int(p_12 * N)\n",
    "i_23 = int(p_23 * N)\n",
    "i_34 = int(p_34 * N)\n",
    "i_45 = int(p_45 * N)\n",
    "\n",
    "# make arrays\n",
    "u = np.zeros((N))\n",
    "rho = np.zeros((N))\n",
    "P = np.zeros((N))\n",
    "\n",
    "\n",
    "u[0 : i_12] = u_1                       # region 1\n",
    "u[i_12 : i_23] = u2(x[i_12 : i_23])     # region 2\n",
    "u[i_23 : i_34] = u_3                    # region 3\n",
    "u[i_34 : i_45] = u_4                    # region 4\n",
    "u[i_45 : ] = u_5                        # region 5\n",
    "\n",
    "rho[0 : i_12] = rho_1                   # region 1\n",
    "rho[i_12 : i_23] = rho2(x[i_12 : i_23]) # region 2\n",
    "rho[i_23 : i_34] = rho_3                # region 3\n",
    "rho[i_34 : i_45] = rho_4                # region 4\n",
    "rho[i_45 : ] = rho_5                    # region 5\n",
    "\n",
    "P[0 : i_12] = P_1                       # region 1\n",
    "P[i_12 : i_23] = P2(x[i_12 : i_23])     # region 2\n",
    "P[i_23 : i_34] = P_3                    # region 3\n",
    "P[i_34 : i_45] = P_4                    # region 4\n",
    "P[i_45 : ] = P_5                        # region 5\n",
    "\n"
   ]
  },
  {
   "cell_type": "code",
   "execution_count": 77,
   "metadata": {},
   "outputs": [
    {
     "data": {
      "image/png": "[encoded data removed]",
      "text/plain": [
       "<Figure size 1200x400 with 3 Axes>"
      ]
     },
     "metadata": {},
     "output_type": "display_data"
    }
   ],
   "source": [
    "fig, ax = plt.subplots(1, 3, figsize=(12, 4))\n",
    "ax[0].plot(x, rho)\n",
    "ax[0].set_xlabel('x')\n",
    "ax[0].set_ylabel('rho')\n",
    "ax[0].set_title('Density')\n",
    "\n",
    "ax[1].plot(x, P)\n",
    "ax[1].set_xlabel('x')\n",
    "ax[1].set_ylabel('P')\n",
    "ax[1].set_title('Pressure')\n",
    "\n",
    "ax[2].plot(x, u)\n",
    "ax[2].set_xlabel('x')\n",
    "ax[2].set_ylabel('u')\n",
    "ax[2].set_title('Velocity')\n",
    "\n",
    "plt.tight_layout()"
   ]
  },
  {
   "attachments": {},
   "cell_type": "markdown",
   "metadata": {},
   "source": [
    "<span style=\"color:#78AE7E\">\n",
    "\n",
    "OK, now it ALMOST works, but not entirely. \n",
    "\n",
    "It seems like region 2 has a different size in density, pressure and velocity?? So I need to calculate its extents for each case?? \n",
    "\n",
    "</span>"
   ]
  },
  {
   "attachments": {},
   "cell_type": "markdown",
   "metadata": {},
   "source": [
    "<span style=\"color:#78AE7E\">\n",
    "\n",
    "I will overplot with Bifrost to see what's going on\n",
    "\n",
    "</span>"
   ]
  },
  {
   "attachments": {},
   "cell_type": "markdown",
   "metadata": {},
   "source": [
    "<span style=\"color:#78AE7E\">\n",
    "\n",
    "# A completely different strategy from a random thesis I found online:\n",
    "\n",
    "[R. Soumen, An Introduction to Fluid Dynamics and Numerical Solution of Shock Tube Problem by Using Roe Solver](https://ui.adsabs.harvard.edu/abs/2021arXiv210302794R)\n",
    "\n",
    "\n",
    "\n",
    "\n",
    "\n",
    "</span>"
   ]
  },
  {
   "cell_type": "code",
   "execution_count": 99,
   "metadata": {},
   "outputs": [
    {
     "name": "stdout",
     "output_type": "stream",
     "text": [
      "[3.03130178]\n"
     ]
    }
   ],
   "source": [
    "# Initial conditions\n",
    "P_l = 1     ; P_r = 0.1 \n",
    "rho_l = 1   ; rho_r = 0.125\n",
    "u_l = 0     ; u_r = 0\n",
    "t_end = 0.2 ; mu = 0.35 # mu = dt/dx\n",
    "\n",
    "# Params\n",
    "gamma = 1.4\n",
    "gamma_A = gamma - 1\n",
    "gamma_B = 1 / gamma_A\n",
    "gamma_C = gamma + 1\n",
    "\n",
    "P_rl = P_r / P_l\n",
    "c_r = np.sqrt(gamma * P_r / rho_r)\n",
    "c_l = np.sqrt(gamma * P_l / rho_l)\n",
    "c_rl = c_r / c_l\n",
    "mach_l = (u_l - u_r) / c_l\n",
    "\n",
    "def func(p_34):\n",
    "    wortel = np.sqrt(2 * gamma * (gamma_A + gamma_C * p_34)) \n",
    "    yy = (gamma_A * c_rl * (p_34 - 1)) / wortel\n",
    "    yy = (1 + mach_l * gamma_A/2 - yy)**(2 * gamma/gamma_A) \n",
    "    y = yy/p_34 - P_rl\n",
    "    return y\n",
    "\n",
    "p_34 = fsolve(func, 3.0) # p_34 = p_3 / p_4\n",
    "print(p_34)\n",
    "\n",
    "p_3 = p_34 * P_r\n",
    "alpha = gamma_C / gamma_A \n",
    "rho_3 = rho_r * (1 + alpha * p_34) / (alpha + p_34)\n",
    "\n",
    "rho_2 = rho_l * (p_34 * P_r/P_l)**(1/gamma)\n",
    "u_2 = u_l - u_r + (2/gamma_A) * c_l * (1 - (p_34 * P_r/P_l)**(gamma_A / (2 * gamma)))\n",
    "c_2 = np.sqrt(gamma * p_3/rho_2)\n",
    "\n",
    "# Shock position \n",
    "s_pos = (0.5 + t_end * c_r * np.sqrt(gamma_A / (2*gamma) + gamma_C / (2*gamma) * p_34) + t_end * u_r) \n",
    "\n",
    "# Contact position\n",
    "con_pos = (0.5 + u_2*t_end + t_end*u_r)\n",
    "\n",
    "# Start of expansion fan \n",
    "pos_1 = 0.5 + (u_l - c_l)*t_end \n",
    "\n",
    "# End of expansion fan\n",
    "pos_2 = 0.5 + (u_2 + u_r - c_2)*t_end\n",
    "\n",
    "# Make grid abd empty arrays\n",
    "x_grid  = np.linspace(0, 1, 100)\n",
    "P       = np.zeros((1, len(x_grid)))\n",
    "u       = np.zeros((1, len(x_grid)))\n",
    "rho     = np.zeros((1, len(x_grid)))\n",
    "mach    = np.zeros((1, len(x_grid)))\n",
    "c       = np.zeros((1, len(x_grid)))\n",
    "\n",
    "xgrid = np.matrix(x_grid)"
   ]
  },
  {
   "cell_type": "code",
   "execution_count": 100,
   "metadata": {},
   "outputs": [
    {
     "name": "stderr",
     "output_type": "stream",
     "text": [
      "/var/folders/ks/7t6xm_bs73n17df17fz5m7lc0000gn/T/ipykernel_62188/2865034965.py:31: RuntimeWarning: invalid value encountered in divide\n",
      "  entropy = np.log(P/rho**gamma)\n"
     ]
    }
   ],
   "source": [
    "for i in range(xgrid.size):\n",
    "\n",
    "    if xgrid[0, i] <= pos_1:\n",
    "        P[0, i] = P_l\n",
    "        rho[0, i] = rho_l\n",
    "        u[0, i] = u_l\n",
    "        c[0, i] = np.sqrt(gamma*P[0, i]/rho[0, i])\n",
    "        mach[0, i] = u[0, i] / c[0, i]\n",
    "\n",
    "    elif xgrid[0, i] <= pos_2:\n",
    "        P[0, i] = (P_l * (1 + (pos_1 - xgrid[0, i]) / (c_l * alpha * t_end))**(2 * gamma / gamma_A))\n",
    "        rho[0, i] = (rho_l * (1 + (pos_1 - xgrid[0, i]) / (c_l * alpha * t_end))**(2 / gamma_A))\n",
    "        u[0, i] = u_l + (2/gamma_C)*(xgrid[0, i] - pos_1) / t_end\n",
    "        c[0, i] = np.sqrt(gamma*P[0, i]/rho[0, i])\n",
    "        mach[0, i] = u[0, i] / c[0, i]\n",
    "\n",
    "    elif xgrid[0, i] <= con_pos:\n",
    "        P[0, i] = p_3\n",
    "        rho[0, i] = rho_2\n",
    "        u[0, i] = u_2 + u_r \n",
    "        c[0, i] = np.sqrt(gamma*P[0, i]/rho[0, i])\n",
    "        mach[0, i] = u[0, i] / c[0, i]\n",
    "\n",
    "    elif xgrid[0, i] <= s_pos:\n",
    "        P[0, i] = p_3\n",
    "        rho[0, i] = rho_3\n",
    "        u[0, i] = u_2 + u_r \n",
    "        c[0, i] = np.sqrt(gamma*P[0, i]/rho[0, i])\n",
    "        mach[0, i] = u[0, i] / c[0, i]\n",
    "\n",
    "entropy = np.log(P/rho**gamma)"
   ]
  },
  {
   "cell_type": "code",
   "execution_count": 115,
   "metadata": {},
   "outputs": [
    {
     "data": {
      "image/png": "[encoded data removed]",
      "text/plain": [
       "<Figure size 1200x400 with 3 Axes>"
      ]
     },
     "metadata": {},
     "output_type": "display_data"
    }
   ],
   "source": [
    "fig, ax = plt.subplots(1, 3, figsize=(12, 4))\n",
    "ax[0].plot(x_grid, rho[0])\n",
    "ax[0].set_xlabel('x')\n",
    "ax[0].set_ylabel('rho')\n",
    "ax[0].set_title('Density')\n",
    "\n",
    "ax[1].plot(x_grid, P[0])\n",
    "ax[1].set_xlabel('x')\n",
    "ax[1].set_ylabel('P')\n",
    "ax[1].set_title('Pressure')\n",
    "\n",
    "ax[2].plot(x_grid, u[0])\n",
    "ax[2].set_xlabel('x')\n",
    "ax[2].set_ylabel('u')\n",
    "ax[2].set_title('Velocity')\n",
    "\n",
    "plt.tight_layout()"
   ]
  },
  {
   "attachments": {},
   "cell_type": "markdown",
   "metadata": {},
   "source": [
    "## 3-  2D models (Aline & Camilla -- turbulence) \n",
    "\n",
    "Expand the following equations into a two (or three) dimensions. In order to facilitate the implementation, consider step 1 and 2 already in 3D. So, the variables are 3D (nx,ny,nz). In that case, in 1D, the variables are still 3D, i.e., (nx, 1, 1). Where the derivatives out of the domain are zero, i.e., $\\frac{\\partial \\rho}{\\partial z} = 0$\n",
    "\n",
    "$ \\frac{\\partial \\rho}{\\partial t} + \\nabla \\cdot (\\rho \\bf u) = 0 $\n",
    "\n",
    "$ \\frac{\\partial \\rho {\\bf u}}{\\partial t} + \\nabla \\cdot (\\rho {\\bf u} \\otimes {\\bf u}) = - \\nabla (P_g)$\n",
    "\n",
    "$ \\frac{\\partial e}{\\partial t } = -\\nabla\\cdot e {\\bf u} -P_g \\nabla \\cdot {\\bf u}$\n",
    "\n",
    "Consider to implement Bifrost numerical scheme (derivations, interpolations and hyper diffusive term). To clarify the diadic and tensorial product as well as the multi-dimensions. The momentum conservation becomes into 2 (in 2D) or 3 (in 2.5D or 3D) equations, i.e., for the x, y and/or z components. The following operation $\\nabla \\cdot (\\rho {\\bf u} \\otimes {\\bf u})$  can be expanded as follows for the x, y and z components: \n",
    "\n",
    "$\\frac {\\partial \\rho u_x^2}{\\partial x} + \\frac {\\partial \\rho u_x u_y}{\\partial y} + \\frac {\\partial \\rho u_x u_z}{\\partial z}$\n",
    "\n",
    "$\\frac {\\partial \\rho u_y^2}{\\partial y} + \\frac {\\partial \\rho u_x u_y}{\\partial x} + \\frac {\\partial \\rho u_y u_z}{\\partial z}$\n",
    "\n",
    "$\\frac {\\partial \\rho u_z^2}{\\partial z} + \\frac {\\partial \\rho u_z u_y}{\\partial y} + \\frac {\\partial \\rho u_x u_z}{\\partial x}$\n",
    "\n",
    "which comes from the following matrix operations: \n",
    "\n",
    "$\n",
    "\\nabla \\cdot (\\rho {\\mathbf{u} \\otimes \\mathbf{u}})=\\left[\\begin{array}{c}\n",
    "\\frac{\\partial}{\\partial x} \\\\\n",
    "\\frac{\\partial}{\\partial y} \\\\\n",
    "\\frac{\\partial}{\\partial z}\n",
    "\\end{array}\\right]\n",
    "\\left(\\rho\n",
    "\\left[\\begin{array}{cccc}\n",
    "u_{x} u_{x} & u_{x} u_{y} & u_{x} u_{z} \\\\\n",
    "u_{y} u_{x} & u_{y} u_{y} & u_{y} u_{z} \\\\\n",
    "u_{z} u_{x} & u_{z} u_{y} & u_{z} u_{z}\n",
    "\\end{array}\\right]\\right)\n",
    "$\n",
    "\n",
    "\n",
    "### 3a- Test the code: \n",
    "\n",
    "For simplicity, consider a 2D gaussian profile in density which is pressure balance and with an initial velocity (like for 1D case).  I recommend that the initial velocity is diagonal. \n",
    "\n",
    "__bonus__ you can also add other test that are described here [Flash code hydro tests](http://flash.uchicago.edu/site/flashcode/user_support/flash_ug_devel/node184.html#SECTION010115000000000000000). From that list, good options are Blast, Sedov explosion, Isentropic Vortex, or Relativistic Two-dimensional Riemann (but not relativistic). "
   ]
  },
  {
   "attachments": {},
   "cell_type": "markdown",
   "metadata": {},
   "source": [
    "<span style=\"color:#78AE7E\">\n",
    "\n",
    "- [ ] 2D Gaussian density perturbation in Bifrost\n",
    "  - Setting up a new experiment requires Fortran90 coding in the file `experiment_mod.f90`. \n",
    "  - I will ask Avijeet if for advice\n",
    "  - Can I do it in Python somehow?? I doubt it, but... \n",
    "- [ ] Choose which other 2D Riemann problems I can check out\n",
    "  - Blast is probably a good one\n",
    "\n",
    "</span>"
   ]
  },
  {
   "attachments": {},
   "cell_type": "markdown",
   "metadata": {},
   "source": [
    "## 4- \"chromospheric\"-coronal transitions: Prominences and spicules \n",
    "\n",
    "### 4.1- Kelvin-Helmhotz instability in Spicules\n",
    "Kelvin-Helmhotz instability: Spicules are highly dynamic cold dense material traveling into the million degrees corona. Investigate the shear, vortices, scales, and mixing with the following initial setup. \n",
    "\n",
    "Divide the domain with background environmetal properties:\n",
    "1. typical from quiet corona (i.e., 1 million K degrees and densities of $10^{-14}$ g/cm$^3$) and zero velocity \n",
    "2. typical from the upper-chromosphere (i.e., 8,000 K degrees and densities of $10^{-12}$ g/cm$^3$) with 100km/s [Chintzoglou et al. 2021](https://iopscience.iop.org/article/10.3847/1538-4357/abc9b1). \n",
    "\n",
    "One could consider periodic boundary conditions if the middle of the domain is the upper chromosphere, and the top and bottom is the corona. <span style=\"color:#78AE7E\"> (????) </span>\n"
   ]
  },
  {
   "attachments": {},
   "cell_type": "markdown",
   "metadata": {},
   "source": [
    "\n",
    "### 4.2- Rayleigh-Taylor instability in Prominences\n",
    "Rayleigh-Taylor instability: Solar Prominences are cold dens material embebed in the million degrees corona. \n",
    "\n",
    "Add gravity to the HD eqs. Using the same setup but the chromospheric material will be above the corona, both with zero velocity. \n",
    "Investigate the vortices, scales, and mixing. In this case, one needs to have **constant extrapolation** at the top and bottom, where the *top is the prominenc*e and *the bottom the corona*.\n",
    "\n",
    "Investigate with different numerical domains and resolutions in both setups."
   ]
  }
 ],
 "metadata": {
  "kernelspec": {
   "display_name": "ast_env",
   "language": "python",
   "name": "ast_env"
  },
  "language_info": {
   "codemirror_mode": {
    "name": "ipython",
    "version": 3
   },
   "file_extension": ".py",
   "mimetype": "text/x-python",
   "name": "python",
   "nbconvert_exporter": "python",
   "pygments_lexer": "ipython3",
   "version": "3.10.8"
  },
  "vscode": {
   "interpreter": {
    "hash": "916dbcbb3f70747c44a77c7bcd40155683ae19c65e1c03b4aa3499c5328201f1"
   }
  }
 },
 "nbformat": 4,
 "nbformat_minor": 4
}
